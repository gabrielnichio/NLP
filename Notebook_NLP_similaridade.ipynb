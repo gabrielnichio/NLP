{
  "cells": [
    {
      "cell_type": "markdown",
      "metadata": {
        "id": "view-in-github",
        "colab_type": "text"
      },
      "source": [
        "<a href=\"https://colab.research.google.com/github/gabrielnichio/NLP/blob/main/Notebook_NLP_similaridade.ipynb\" target=\"_parent\"><img src=\"https://colab.research.google.com/assets/colab-badge.svg\" alt=\"Open In Colab\"/></a>"
      ]
    },
    {
      "cell_type": "markdown",
      "metadata": {
        "id": "IIoLBzyvnIok"
      },
      "source": [
        "# Aula 1 - Buscando a similaridade"
      ]
    },
    {
      "cell_type": "code",
      "source": [
        "url = 'https://raw.githubusercontent.com/Mirlaa/NLP-trabalhando-similaridade-sentencas/refs/heads/main/reviews_zoop.csv'"
      ],
      "metadata": {
        "id": "BIlzVguMUTQX"
      },
      "execution_count": null,
      "outputs": []
    },
    {
      "cell_type": "code",
      "source": [
        "import pandas as pd\n",
        "\n",
        "dados = pd.read_csv(url)\n",
        "dados.head()"
      ],
      "metadata": {
        "id": "DH5W62sCxNoD",
        "colab": {
          "base_uri": "https://localhost:8080/",
          "height": 206
        },
        "outputId": "f33eb618-1cd9-4e22-9b00-e331682f14b2"
      },
      "execution_count": null,
      "outputs": [
        {
          "output_type": "execute_result",
          "data": {
            "text/plain": [
              "   nota_review                                             review\n",
              "0            5              Recebi bem antes do prazo estipulado.\n",
              "1            5  Parabéns lojas Zoop adorei comprar pela Intern...\n",
              "2            4  aparelho eficiente. no site a marca do aparelh...\n",
              "3            4    Mas um pouco ,travando...pelo valor ta Boa.\\r\\n\n",
              "4            5  Vendedor confiável, produto ok e entrega antes..."
            ],
            "text/html": [
              "\n",
              "  <div id=\"df-8f2049cc-d5de-484d-bec8-8a5b36692687\" class=\"colab-df-container\">\n",
              "    <div>\n",
              "<style scoped>\n",
              "    .dataframe tbody tr th:only-of-type {\n",
              "        vertical-align: middle;\n",
              "    }\n",
              "\n",
              "    .dataframe tbody tr th {\n",
              "        vertical-align: top;\n",
              "    }\n",
              "\n",
              "    .dataframe thead th {\n",
              "        text-align: right;\n",
              "    }\n",
              "</style>\n",
              "<table border=\"1\" class=\"dataframe\">\n",
              "  <thead>\n",
              "    <tr style=\"text-align: right;\">\n",
              "      <th></th>\n",
              "      <th>nota_review</th>\n",
              "      <th>review</th>\n",
              "    </tr>\n",
              "  </thead>\n",
              "  <tbody>\n",
              "    <tr>\n",
              "      <th>0</th>\n",
              "      <td>5</td>\n",
              "      <td>Recebi bem antes do prazo estipulado.</td>\n",
              "    </tr>\n",
              "    <tr>\n",
              "      <th>1</th>\n",
              "      <td>5</td>\n",
              "      <td>Parabéns lojas Zoop adorei comprar pela Intern...</td>\n",
              "    </tr>\n",
              "    <tr>\n",
              "      <th>2</th>\n",
              "      <td>4</td>\n",
              "      <td>aparelho eficiente. no site a marca do aparelh...</td>\n",
              "    </tr>\n",
              "    <tr>\n",
              "      <th>3</th>\n",
              "      <td>4</td>\n",
              "      <td>Mas um pouco ,travando...pelo valor ta Boa.\\r\\n</td>\n",
              "    </tr>\n",
              "    <tr>\n",
              "      <th>4</th>\n",
              "      <td>5</td>\n",
              "      <td>Vendedor confiável, produto ok e entrega antes...</td>\n",
              "    </tr>\n",
              "  </tbody>\n",
              "</table>\n",
              "</div>\n",
              "    <div class=\"colab-df-buttons\">\n",
              "\n",
              "  <div class=\"colab-df-container\">\n",
              "    <button class=\"colab-df-convert\" onclick=\"convertToInteractive('df-8f2049cc-d5de-484d-bec8-8a5b36692687')\"\n",
              "            title=\"Convert this dataframe to an interactive table.\"\n",
              "            style=\"display:none;\">\n",
              "\n",
              "  <svg xmlns=\"http://www.w3.org/2000/svg\" height=\"24px\" viewBox=\"0 -960 960 960\">\n",
              "    <path d=\"M120-120v-720h720v720H120Zm60-500h600v-160H180v160Zm220 220h160v-160H400v160Zm0 220h160v-160H400v160ZM180-400h160v-160H180v160Zm440 0h160v-160H620v160ZM180-180h160v-160H180v160Zm440 0h160v-160H620v160Z\"/>\n",
              "  </svg>\n",
              "    </button>\n",
              "\n",
              "  <style>\n",
              "    .colab-df-container {\n",
              "      display:flex;\n",
              "      gap: 12px;\n",
              "    }\n",
              "\n",
              "    .colab-df-convert {\n",
              "      background-color: #E8F0FE;\n",
              "      border: none;\n",
              "      border-radius: 50%;\n",
              "      cursor: pointer;\n",
              "      display: none;\n",
              "      fill: #1967D2;\n",
              "      height: 32px;\n",
              "      padding: 0 0 0 0;\n",
              "      width: 32px;\n",
              "    }\n",
              "\n",
              "    .colab-df-convert:hover {\n",
              "      background-color: #E2EBFA;\n",
              "      box-shadow: 0px 1px 2px rgba(60, 64, 67, 0.3), 0px 1px 3px 1px rgba(60, 64, 67, 0.15);\n",
              "      fill: #174EA6;\n",
              "    }\n",
              "\n",
              "    .colab-df-buttons div {\n",
              "      margin-bottom: 4px;\n",
              "    }\n",
              "\n",
              "    [theme=dark] .colab-df-convert {\n",
              "      background-color: #3B4455;\n",
              "      fill: #D2E3FC;\n",
              "    }\n",
              "\n",
              "    [theme=dark] .colab-df-convert:hover {\n",
              "      background-color: #434B5C;\n",
              "      box-shadow: 0px 1px 3px 1px rgba(0, 0, 0, 0.15);\n",
              "      filter: drop-shadow(0px 1px 2px rgba(0, 0, 0, 0.3));\n",
              "      fill: #FFFFFF;\n",
              "    }\n",
              "  </style>\n",
              "\n",
              "    <script>\n",
              "      const buttonEl =\n",
              "        document.querySelector('#df-8f2049cc-d5de-484d-bec8-8a5b36692687 button.colab-df-convert');\n",
              "      buttonEl.style.display =\n",
              "        google.colab.kernel.accessAllowed ? 'block' : 'none';\n",
              "\n",
              "      async function convertToInteractive(key) {\n",
              "        const element = document.querySelector('#df-8f2049cc-d5de-484d-bec8-8a5b36692687');\n",
              "        const dataTable =\n",
              "          await google.colab.kernel.invokeFunction('convertToInteractive',\n",
              "                                                    [key], {});\n",
              "        if (!dataTable) return;\n",
              "\n",
              "        const docLinkHtml = 'Like what you see? Visit the ' +\n",
              "          '<a target=\"_blank\" href=https://colab.research.google.com/notebooks/data_table.ipynb>data table notebook</a>'\n",
              "          + ' to learn more about interactive tables.';\n",
              "        element.innerHTML = '';\n",
              "        dataTable['output_type'] = 'display_data';\n",
              "        await google.colab.output.renderOutput(dataTable, element);\n",
              "        const docLink = document.createElement('div');\n",
              "        docLink.innerHTML = docLinkHtml;\n",
              "        element.appendChild(docLink);\n",
              "      }\n",
              "    </script>\n",
              "  </div>\n",
              "\n",
              "\n",
              "<div id=\"df-63b9e519-3f8c-44ce-bc1c-34cac2d8afa0\">\n",
              "  <button class=\"colab-df-quickchart\" onclick=\"quickchart('df-63b9e519-3f8c-44ce-bc1c-34cac2d8afa0')\"\n",
              "            title=\"Suggest charts\"\n",
              "            style=\"display:none;\">\n",
              "\n",
              "<svg xmlns=\"http://www.w3.org/2000/svg\" height=\"24px\"viewBox=\"0 0 24 24\"\n",
              "     width=\"24px\">\n",
              "    <g>\n",
              "        <path d=\"M19 3H5c-1.1 0-2 .9-2 2v14c0 1.1.9 2 2 2h14c1.1 0 2-.9 2-2V5c0-1.1-.9-2-2-2zM9 17H7v-7h2v7zm4 0h-2V7h2v10zm4 0h-2v-4h2v4z\"/>\n",
              "    </g>\n",
              "</svg>\n",
              "  </button>\n",
              "\n",
              "<style>\n",
              "  .colab-df-quickchart {\n",
              "      --bg-color: #E8F0FE;\n",
              "      --fill-color: #1967D2;\n",
              "      --hover-bg-color: #E2EBFA;\n",
              "      --hover-fill-color: #174EA6;\n",
              "      --disabled-fill-color: #AAA;\n",
              "      --disabled-bg-color: #DDD;\n",
              "  }\n",
              "\n",
              "  [theme=dark] .colab-df-quickchart {\n",
              "      --bg-color: #3B4455;\n",
              "      --fill-color: #D2E3FC;\n",
              "      --hover-bg-color: #434B5C;\n",
              "      --hover-fill-color: #FFFFFF;\n",
              "      --disabled-bg-color: #3B4455;\n",
              "      --disabled-fill-color: #666;\n",
              "  }\n",
              "\n",
              "  .colab-df-quickchart {\n",
              "    background-color: var(--bg-color);\n",
              "    border: none;\n",
              "    border-radius: 50%;\n",
              "    cursor: pointer;\n",
              "    display: none;\n",
              "    fill: var(--fill-color);\n",
              "    height: 32px;\n",
              "    padding: 0;\n",
              "    width: 32px;\n",
              "  }\n",
              "\n",
              "  .colab-df-quickchart:hover {\n",
              "    background-color: var(--hover-bg-color);\n",
              "    box-shadow: 0 1px 2px rgba(60, 64, 67, 0.3), 0 1px 3px 1px rgba(60, 64, 67, 0.15);\n",
              "    fill: var(--button-hover-fill-color);\n",
              "  }\n",
              "\n",
              "  .colab-df-quickchart-complete:disabled,\n",
              "  .colab-df-quickchart-complete:disabled:hover {\n",
              "    background-color: var(--disabled-bg-color);\n",
              "    fill: var(--disabled-fill-color);\n",
              "    box-shadow: none;\n",
              "  }\n",
              "\n",
              "  .colab-df-spinner {\n",
              "    border: 2px solid var(--fill-color);\n",
              "    border-color: transparent;\n",
              "    border-bottom-color: var(--fill-color);\n",
              "    animation:\n",
              "      spin 1s steps(1) infinite;\n",
              "  }\n",
              "\n",
              "  @keyframes spin {\n",
              "    0% {\n",
              "      border-color: transparent;\n",
              "      border-bottom-color: var(--fill-color);\n",
              "      border-left-color: var(--fill-color);\n",
              "    }\n",
              "    20% {\n",
              "      border-color: transparent;\n",
              "      border-left-color: var(--fill-color);\n",
              "      border-top-color: var(--fill-color);\n",
              "    }\n",
              "    30% {\n",
              "      border-color: transparent;\n",
              "      border-left-color: var(--fill-color);\n",
              "      border-top-color: var(--fill-color);\n",
              "      border-right-color: var(--fill-color);\n",
              "    }\n",
              "    40% {\n",
              "      border-color: transparent;\n",
              "      border-right-color: var(--fill-color);\n",
              "      border-top-color: var(--fill-color);\n",
              "    }\n",
              "    60% {\n",
              "      border-color: transparent;\n",
              "      border-right-color: var(--fill-color);\n",
              "    }\n",
              "    80% {\n",
              "      border-color: transparent;\n",
              "      border-right-color: var(--fill-color);\n",
              "      border-bottom-color: var(--fill-color);\n",
              "    }\n",
              "    90% {\n",
              "      border-color: transparent;\n",
              "      border-bottom-color: var(--fill-color);\n",
              "    }\n",
              "  }\n",
              "</style>\n",
              "\n",
              "  <script>\n",
              "    async function quickchart(key) {\n",
              "      const quickchartButtonEl =\n",
              "        document.querySelector('#' + key + ' button');\n",
              "      quickchartButtonEl.disabled = true;  // To prevent multiple clicks.\n",
              "      quickchartButtonEl.classList.add('colab-df-spinner');\n",
              "      try {\n",
              "        const charts = await google.colab.kernel.invokeFunction(\n",
              "            'suggestCharts', [key], {});\n",
              "      } catch (error) {\n",
              "        console.error('Error during call to suggestCharts:', error);\n",
              "      }\n",
              "      quickchartButtonEl.classList.remove('colab-df-spinner');\n",
              "      quickchartButtonEl.classList.add('colab-df-quickchart-complete');\n",
              "    }\n",
              "    (() => {\n",
              "      let quickchartButtonEl =\n",
              "        document.querySelector('#df-63b9e519-3f8c-44ce-bc1c-34cac2d8afa0 button');\n",
              "      quickchartButtonEl.style.display =\n",
              "        google.colab.kernel.accessAllowed ? 'block' : 'none';\n",
              "    })();\n",
              "  </script>\n",
              "</div>\n",
              "\n",
              "    </div>\n",
              "  </div>\n"
            ],
            "application/vnd.google.colaboratory.intrinsic+json": {
              "type": "dataframe",
              "variable_name": "dados",
              "summary": "{\n  \"name\": \"dados\",\n  \"rows\": 39462,\n  \"fields\": [\n    {\n      \"column\": \"nota_review\",\n      \"properties\": {\n        \"dtype\": \"number\",\n        \"std\": 1,\n        \"min\": 1,\n        \"max\": 5,\n        \"num_unique_values\": 5,\n        \"samples\": [\n          4,\n          3,\n          2\n        ],\n        \"semantic_type\": \"\",\n        \"description\": \"\"\n      }\n    },\n    {\n      \"column\": \"review\",\n      \"properties\": {\n        \"dtype\": \"string\",\n        \"num_unique_values\": 35059,\n        \"samples\": [\n          \"nao gostei \\r\\nporque demou muito para se entregua tive que compra outro produto\\r\\nmais chegou tudo certinho na proxima talvez chega ante do \\u00b4prazo\",\n          \"\\u00d3timo produto, valeu a pena.\",\n          \"O produto \\u00e9 muito bom que chegou bem antes do prazo...parab\\u00e9ns\\ud83d\\ude0a\\ud83d\\udc4f\"\n        ],\n        \"semantic_type\": \"\",\n        \"description\": \"\"\n      }\n    }\n  ]\n}"
            }
          },
          "metadata": {},
          "execution_count": 2
        }
      ]
    },
    {
      "cell_type": "code",
      "source": [
        "dados['review'][1]"
      ],
      "metadata": {
        "id": "VCOEAZMsxNli",
        "colab": {
          "base_uri": "https://localhost:8080/",
          "height": 35
        },
        "outputId": "3806bb88-79b9-434b-f71b-573e882cd8c7"
      },
      "execution_count": null,
      "outputs": [
        {
          "output_type": "execute_result",
          "data": {
            "text/plain": [
              "'Parabéns lojas Zoop adorei comprar pela Internet seguro e prático Parabéns a todos feliz Páscoa'"
            ],
            "application/vnd.google.colaboratory.intrinsic+json": {
              "type": "string"
            }
          },
          "metadata": {},
          "execution_count": 3
        }
      ]
    },
    {
      "cell_type": "code",
      "execution_count": null,
      "metadata": {
        "id": "HuCP4vGynQdf",
        "colab": {
          "base_uri": "https://localhost:8080/",
          "height": 53
        },
        "outputId": "84da2074-b599-42a1-8f73-9320b3539c2e"
      },
      "outputs": [
        {
          "output_type": "execute_result",
          "data": {
            "text/plain": [
              "'A compra foi realizada facilmente.\\r\\nA entrega foi efetuada muito antes do prazo dado.\\r\\nO produto já começou a ser usado e até o presente,\\r\\nsem problemas.'"
            ],
            "application/vnd.google.colaboratory.intrinsic+json": {
              "type": "string"
            }
          },
          "metadata": {},
          "execution_count": 4
        }
      ],
      "source": [
        "dados['review'][8]"
      ]
    },
    {
      "cell_type": "code",
      "execution_count": null,
      "metadata": {
        "id": "_ToYhtf6nRyR",
        "colab": {
          "base_uri": "https://localhost:8080/",
          "height": 53
        },
        "outputId": "2b6ce4ea-9b87-41da-b786-ad4303d6ce1f"
      },
      "outputs": [
        {
          "output_type": "execute_result",
          "data": {
            "text/plain": [
              "'Sempre compro pela Internet e a entrega ocorre antes do prazo combinado, que acredito ser o prazo máximo. No  o prazo máximo já se esgotou e ainda não recebi o produto.'"
            ],
            "application/vnd.google.colaboratory.intrinsic+json": {
              "type": "string"
            }
          },
          "metadata": {},
          "execution_count": 5
        }
      ],
      "source": [
        "dados['review'][11]"
      ]
    },
    {
      "cell_type": "code",
      "source": [
        "dados['review'][18]"
      ],
      "metadata": {
        "id": "IJFSJoLGkys2",
        "colab": {
          "base_uri": "https://localhost:8080/",
          "height": 35
        },
        "outputId": "d66eedb6-cd2c-4e4b-ca3b-051a2cff297c"
      },
      "execution_count": null,
      "outputs": [
        {
          "output_type": "execute_result",
          "data": {
            "text/plain": [
              "'otimo vendedor chegou ate antes do prazo , adorei o produto'"
            ],
            "application/vnd.google.colaboratory.intrinsic+json": {
              "type": "string"
            }
          },
          "metadata": {},
          "execution_count": 6
        }
      ]
    },
    {
      "cell_type": "markdown",
      "metadata": {
        "id": "3hl_YbZyndPA"
      },
      "source": [
        "## Similaridade entre as palavras"
      ]
    },
    {
      "cell_type": "code",
      "source": [
        "from nltk.tokenize import word_tokenize\n",
        "from functools import partial\n",
        "\n",
        "word_tokenize_pt = partial(word_tokenize, language='portuguese')"
      ],
      "metadata": {
        "id": "fAtTE-WixHfZ"
      },
      "execution_count": null,
      "outputs": []
    },
    {
      "cell_type": "code",
      "source": [
        "import nltk\n",
        "nltk.download('punkt_tab')"
      ],
      "metadata": {
        "id": "u9DoL-7SxHXx",
        "colab": {
          "base_uri": "https://localhost:8080/"
        },
        "outputId": "3cf7f551-d9c4-4159-d7c3-a092fb91b01b"
      },
      "execution_count": null,
      "outputs": [
        {
          "output_type": "stream",
          "name": "stderr",
          "text": [
            "[nltk_data] Downloading package punkt_tab to /root/nltk_data...\n",
            "[nltk_data]   Package punkt_tab is already up-to-date!\n"
          ]
        },
        {
          "output_type": "execute_result",
          "data": {
            "text/plain": [
              "True"
            ]
          },
          "metadata": {},
          "execution_count": 8
        }
      ]
    },
    {
      "cell_type": "code",
      "source": [
        "from gensim.models import Word2Vec\n",
        "\n",
        "modelo = Word2Vec(sentences=dados['review'].apply(word_tokenize_pt),\n",
        "                  vector_size=100, min_count=1, window=5, workers=1, seed=45)"
      ],
      "metadata": {
        "id": "pg_pFl0ZxHMv"
      },
      "execution_count": null,
      "outputs": []
    },
    {
      "cell_type": "code",
      "source": [
        "modelo.wv.most_similar('entrega')"
      ],
      "metadata": {
        "id": "HMCmrvLtxHFu",
        "colab": {
          "base_uri": "https://localhost:8080/"
        },
        "outputId": "b4bce4b3-268a-4eb9-bb76-8625a6867e27"
      },
      "execution_count": null,
      "outputs": [
        {
          "output_type": "execute_result",
          "data": {
            "text/plain": [
              "[('Entrega', 0.7526029944419861),\n",
              " ('entregue', 0.7109662294387817),\n",
              " ('compra', 0.6985824108123779),\n",
              " ('chegou', 0.6755236983299255),\n",
              " ('entregou', 0.6542965769767761),\n",
              " ('envio', 0.6249788403511047),\n",
              " ('cadastrado', 0.6161651611328125),\n",
              " ('Chegou', 0.6127404570579529),\n",
              " ('preparar', 0.6111896634101868),\n",
              " ('mercadoria', 0.6036772727966309)]"
            ]
          },
          "metadata": {},
          "execution_count": 10
        }
      ]
    },
    {
      "cell_type": "code",
      "source": [
        "modelo.wv.most_similar('vendedor')"
      ],
      "metadata": {
        "id": "xZ_YNkEhxG_d",
        "colab": {
          "base_uri": "https://localhost:8080/"
        },
        "outputId": "c8475408-51b6-4b1f-efa4-92764a47fd02"
      },
      "execution_count": null,
      "outputs": [
        {
          "output_type": "execute_result",
          "data": {
            "text/plain": [
              "[('atendimento', 0.8607712388038635),\n",
              " ('serviço', 0.8035672307014465),\n",
              " ('fornecedor', 0.7637899518013),\n",
              " ('veiculo', 0.7295382022857666),\n",
              " ('produto', 0.729019284248352),\n",
              " ('processo', 0.710643470287323),\n",
              " ('parceiro', 0.702766478061676),\n",
              " ('cumpriu', 0.6967913508415222),\n",
              " ('trabalho', 0.6896953582763672),\n",
              " ('cumpriram', 0.6866145133972168)]"
            ]
          },
          "metadata": {},
          "execution_count": 11
        }
      ]
    },
    {
      "cell_type": "code",
      "source": [
        "modelo.wv.most_similar('produto')"
      ],
      "metadata": {
        "id": "IlLIHG8ExG5m",
        "colab": {
          "base_uri": "https://localhost:8080/"
        },
        "outputId": "49f22cf8-e596-4329-d987-d767dc2213fe"
      },
      "execution_count": null,
      "outputs": [
        {
          "output_type": "execute_result",
          "data": {
            "text/plain": [
              "[('relógio', 0.7635505199432373),\n",
              " ('pedido', 0.7503548860549927),\n",
              " ('vendedor', 0.729019284248352),\n",
              " ('endereço', 0.7101667523384094),\n",
              " ('Produto', 0.6988608837127686),\n",
              " ('mesmo', 0.6944952607154846),\n",
              " ('tempo', 0.678637683391571),\n",
              " ('Mas', 0.673784077167511),\n",
              " ('porém', 0.6504761576652527),\n",
              " ('mercadoria', 0.6491450667381287)]"
            ]
          },
          "metadata": {},
          "execution_count": 12
        }
      ]
    },
    {
      "cell_type": "markdown",
      "metadata": {
        "id": "bHppHfK1yh2b"
      },
      "source": [
        "## Similaridade entre sentenças"
      ]
    },
    {
      "cell_type": "code",
      "source": [
        "dados['review_token'] = dados['review'].apply(word_tokenize_pt)"
      ],
      "metadata": {
        "id": "tRKl5r38w_i5"
      },
      "execution_count": null,
      "outputs": []
    },
    {
      "cell_type": "code",
      "source": [
        "from gensim.models.doc2vec import TaggedDocument\n",
        "\n",
        "dados_tag = [TaggedDocument(words=linha['review_token'], tags=[str(i)]) for i, linha in dados.iterrows()]"
      ],
      "metadata": {
        "id": "Lgw1qkI7w_c-"
      },
      "execution_count": null,
      "outputs": []
    },
    {
      "cell_type": "code",
      "source": [
        "from gensim.models import Doc2Vec\n",
        "\n",
        "modelo_doc2vec = Doc2Vec(dados_tag, vector_size=100, min_count=2, window=2, workers=1, seed=45, epochs=20)"
      ],
      "metadata": {
        "id": "MMRiLE7Iw_Lw"
      },
      "execution_count": null,
      "outputs": []
    },
    {
      "cell_type": "code",
      "source": [
        "vetor_inferido = modelo_doc2vec.infer_vector(['entrega'])\n",
        "vetor_inferido"
      ],
      "metadata": {
        "id": "ra89iBF0w_Fb",
        "colab": {
          "base_uri": "https://localhost:8080/"
        },
        "outputId": "d1896422-fe7c-43c1-cbf1-c2d43a92cd66"
      },
      "execution_count": null,
      "outputs": [
        {
          "output_type": "execute_result",
          "data": {
            "text/plain": [
              "array([-1.67724326e-01, -4.53842171e-02,  4.84207943e-02, -4.15484421e-02,\n",
              "        5.00995182e-02,  8.76010954e-02, -5.70423640e-02, -1.37432572e-02,\n",
              "       -5.66606037e-03, -8.94614905e-02, -8.59915242e-02,  1.32535808e-02,\n",
              "       -1.09116048e-01,  2.63617318e-02, -4.83008623e-02, -8.89679044e-02,\n",
              "        5.62975369e-03,  5.29433712e-02, -9.23314411e-03,  4.05241223e-03,\n",
              "        2.35807020e-02, -4.43929322e-02,  6.97355941e-02,  2.79909167e-02,\n",
              "        7.03360513e-03, -3.46822129e-03, -1.45844549e-01, -5.40426336e-02,\n",
              "       -2.30528116e-02, -5.12264483e-02,  8.64563510e-02,  3.36484276e-02,\n",
              "        2.43800674e-02,  7.55460039e-02,  4.60643247e-02, -1.42347002e-02,\n",
              "       -8.66562128e-02,  1.47409707e-01, -1.17073543e-01, -1.70136001e-02,\n",
              "        4.34914092e-03,  1.27918972e-02,  2.54425090e-02, -7.02199042e-02,\n",
              "       -6.59307092e-02, -3.41823511e-02,  2.55096573e-02,  1.22077833e-03,\n",
              "       -8.57411027e-02, -1.18490262e-02,  3.29820029e-02,  1.50509086e-02,\n",
              "        1.05857160e-02, -1.01723233e-02,  5.68943098e-02, -1.62079111e-01,\n",
              "       -8.35658939e-05,  3.85998897e-02, -5.61091229e-02, -8.19940865e-02,\n",
              "        2.30427664e-02,  2.06425408e-04,  1.35544306e-02, -8.71221274e-02,\n",
              "       -6.10252004e-03,  5.47464285e-03, -1.05839297e-02,  1.64715052e-02,\n",
              "        3.31729241e-02,  5.29670157e-02, -5.95111633e-03, -8.81802589e-02,\n",
              "        5.51223150e-03,  4.38289680e-02,  3.76890898e-02,  1.62617594e-03,\n",
              "       -8.60867128e-02,  1.07044773e-02, -1.30052632e-02, -1.71166491e-02,\n",
              "        5.59087135e-02,  7.04874918e-02,  2.19084788e-02,  3.91904414e-02,\n",
              "        1.30075291e-01,  9.04226527e-02, -1.24211036e-01,  7.10287839e-02,\n",
              "        1.43653052e-02,  8.59074369e-02,  2.21824050e-02,  6.85148872e-03,\n",
              "       -3.19963843e-02,  1.93151750e-03,  3.33169848e-02, -2.84868688e-03,\n",
              "        3.27812787e-03,  4.05907445e-02, -2.64781192e-02,  9.72979069e-02],\n",
              "      dtype=float32)"
            ]
          },
          "metadata": {},
          "execution_count": 16
        }
      ]
    },
    {
      "cell_type": "code",
      "source": [
        "frases_similares = modelo_doc2vec.dv.most_similar([vetor_inferido],topn=5)\n",
        "frases_similares"
      ],
      "metadata": {
        "id": "fMgA2M6Iw-9H",
        "colab": {
          "base_uri": "https://localhost:8080/"
        },
        "outputId": "efaf9a71-a9a7-4d73-8e08-3146d880d522"
      },
      "execution_count": null,
      "outputs": [
        {
          "output_type": "execute_result",
          "data": {
            "text/plain": [
              "[('24666', 0.8570524454116821),\n",
              " ('9304', 0.8541283011436462),\n",
              " ('33496', 0.8511372804641724),\n",
              " ('7314', 0.8474068641662598),\n",
              " ('24884', 0.8378820419311523)]"
            ]
          },
          "metadata": {},
          "execution_count": 17
        }
      ]
    },
    {
      "cell_type": "code",
      "execution_count": null,
      "metadata": {
        "id": "aYizgudGyjnv",
        "colab": {
          "base_uri": "https://localhost:8080/"
        },
        "outputId": "35472e14-73f2-40dc-fbb4-5f052ebced34"
      },
      "outputs": [
        {
          "output_type": "stream",
          "name": "stdout",
          "text": [
            "Review: entrega antes do prazo - Similaridade: 0.8571\n",
            "Review: entrega no prazo. - Similaridade: 0.8541\n",
            "Review: Ainda estou esperando a entrega!  - Similaridade: 0.8511\n",
            "Review: entrega antes do prazo. - Similaridade: 0.8474\n",
            "Review: entrega antes do prazo - Similaridade: 0.8379\n"
          ]
        }
      ],
      "source": [
        "for idx, similaridade in frases_similares:\n",
        "    print(f\"Review: {dados.iloc[int(idx)]['review']} - Similaridade: {similaridade:.4f}\")"
      ]
    },
    {
      "cell_type": "markdown",
      "metadata": {
        "id": "CZ1znWU22J0F"
      },
      "source": [
        "# Aula 2 - Ajustando os textos de review"
      ]
    },
    {
      "cell_type": "code",
      "source": [
        "nltk.download('stopwords')"
      ],
      "metadata": {
        "id": "EQ8rXN28wMwg",
        "colab": {
          "base_uri": "https://localhost:8080/"
        },
        "outputId": "d2d960e1-a7b4-48bc-c991-76f3faef5a5c"
      },
      "execution_count": null,
      "outputs": [
        {
          "output_type": "stream",
          "name": "stderr",
          "text": [
            "[nltk_data] Downloading package stopwords to /root/nltk_data...\n",
            "[nltk_data]   Package stopwords is already up-to-date!\n"
          ]
        },
        {
          "output_type": "execute_result",
          "data": {
            "text/plain": [
              "True"
            ]
          },
          "metadata": {},
          "execution_count": 19
        }
      ]
    },
    {
      "cell_type": "code",
      "source": [
        "import re\n",
        "from nltk.corpus import stopwords\n",
        "\n",
        "def tratamento_inicial(texto):\n",
        "  texto = re.sub(r'\\W', ' ', texto.lower())\n",
        "\n",
        "  tokens = word_tokenize_pt(texto)\n",
        "  stop_words = set(stopwords.words('portuguese'))\n",
        "  stop_words.discard('não')\n",
        "\n",
        "  return ' '.join([w for w in tokens if w not in stop_words])"
      ],
      "metadata": {
        "id": "sSrZBLmuwMoe"
      },
      "execution_count": null,
      "outputs": []
    },
    {
      "cell_type": "code",
      "source": [
        "dados['tratamento_1'] = dados['review'].apply(tratamento_inicial)"
      ],
      "metadata": {
        "id": "an45PjHKwMdT"
      },
      "execution_count": null,
      "outputs": []
    },
    {
      "cell_type": "code",
      "source": [
        "dados['tratamento_1']"
      ],
      "metadata": {
        "id": "6o4MGDKHwMWu",
        "colab": {
          "base_uri": "https://localhost:8080/",
          "height": 458
        },
        "outputId": "3577c5c8-4c36-4c2d-d291-d616e919b873"
      },
      "execution_count": null,
      "outputs": [
        {
          "output_type": "execute_result",
          "data": {
            "text/plain": [
              "0                        recebi bem antes prazo estipulado\n",
              "1        parabéns lojas zoop adorei comprar internet se...\n",
              "2        aparelho eficiente site marca aparelho impress...\n",
              "3                              pouco travando valor ta boa\n",
              "4        vendedor confiável produto ok entrega antes prazo\n",
              "                               ...                        \n",
              "39457    entregou dentro prazo produto chegou condições...\n",
              "39458    produto não enviado nf não existe venda nf cer...\n",
              "39459    excelente mochila entrega super rápida super r...\n",
              "39460    solicitei compra capa retrovisor celta prisma ...\n",
              "39461    produto chegou ja devolver pois defeito não se...\n",
              "Name: tratamento_1, Length: 39462, dtype: object"
            ],
            "text/html": [
              "<div>\n",
              "<style scoped>\n",
              "    .dataframe tbody tr th:only-of-type {\n",
              "        vertical-align: middle;\n",
              "    }\n",
              "\n",
              "    .dataframe tbody tr th {\n",
              "        vertical-align: top;\n",
              "    }\n",
              "\n",
              "    .dataframe thead th {\n",
              "        text-align: right;\n",
              "    }\n",
              "</style>\n",
              "<table border=\"1\" class=\"dataframe\">\n",
              "  <thead>\n",
              "    <tr style=\"text-align: right;\">\n",
              "      <th></th>\n",
              "      <th>tratamento_1</th>\n",
              "    </tr>\n",
              "  </thead>\n",
              "  <tbody>\n",
              "    <tr>\n",
              "      <th>0</th>\n",
              "      <td>recebi bem antes prazo estipulado</td>\n",
              "    </tr>\n",
              "    <tr>\n",
              "      <th>1</th>\n",
              "      <td>parabéns lojas zoop adorei comprar internet se...</td>\n",
              "    </tr>\n",
              "    <tr>\n",
              "      <th>2</th>\n",
              "      <td>aparelho eficiente site marca aparelho impress...</td>\n",
              "    </tr>\n",
              "    <tr>\n",
              "      <th>3</th>\n",
              "      <td>pouco travando valor ta boa</td>\n",
              "    </tr>\n",
              "    <tr>\n",
              "      <th>4</th>\n",
              "      <td>vendedor confiável produto ok entrega antes prazo</td>\n",
              "    </tr>\n",
              "    <tr>\n",
              "      <th>...</th>\n",
              "      <td>...</td>\n",
              "    </tr>\n",
              "    <tr>\n",
              "      <th>39457</th>\n",
              "      <td>entregou dentro prazo produto chegou condições...</td>\n",
              "    </tr>\n",
              "    <tr>\n",
              "      <th>39458</th>\n",
              "      <td>produto não enviado nf não existe venda nf cer...</td>\n",
              "    </tr>\n",
              "    <tr>\n",
              "      <th>39459</th>\n",
              "      <td>excelente mochila entrega super rápida super r...</td>\n",
              "    </tr>\n",
              "    <tr>\n",
              "      <th>39460</th>\n",
              "      <td>solicitei compra capa retrovisor celta prisma ...</td>\n",
              "    </tr>\n",
              "    <tr>\n",
              "      <th>39461</th>\n",
              "      <td>produto chegou ja devolver pois defeito não se...</td>\n",
              "    </tr>\n",
              "  </tbody>\n",
              "</table>\n",
              "<p>39462 rows × 1 columns</p>\n",
              "</div><br><label><b>dtype:</b> object</label>"
            ]
          },
          "metadata": {},
          "execution_count": 22
        }
      ]
    },
    {
      "cell_type": "code",
      "execution_count": null,
      "metadata": {
        "id": "OXyOnGZX5WQC",
        "colab": {
          "base_uri": "https://localhost:8080/",
          "height": 53
        },
        "outputId": "1cc7d1d0-a484-448f-b335-70116c6844ea"
      },
      "outputs": [
        {
          "output_type": "execute_result",
          "data": {
            "text/plain": [
              "'Sempre compro pela Internet e a entrega ocorre antes do prazo combinado, que acredito ser o prazo máximo. No  o prazo máximo já se esgotou e ainda não recebi o produto.'"
            ],
            "application/vnd.google.colaboratory.intrinsic+json": {
              "type": "string"
            }
          },
          "metadata": {},
          "execution_count": 23
        }
      ],
      "source": [
        "dados['review'][11]"
      ]
    },
    {
      "cell_type": "code",
      "execution_count": null,
      "metadata": {
        "id": "LFsm80JY5B-n",
        "colab": {
          "base_uri": "https://localhost:8080/",
          "height": 53
        },
        "outputId": "d067b4ec-0d93-46fd-f110-56e4411fe93d"
      },
      "outputs": [
        {
          "output_type": "execute_result",
          "data": {
            "text/plain": [
              "'sempre compro internet entrega ocorre antes prazo combinado acredito prazo máximo prazo máximo esgotou ainda não recebi produto'"
            ],
            "application/vnd.google.colaboratory.intrinsic+json": {
              "type": "string"
            }
          },
          "metadata": {},
          "execution_count": 24
        }
      ],
      "source": [
        "dados['tratamento_1'][11]"
      ]
    },
    {
      "cell_type": "markdown",
      "metadata": {
        "id": "qujAUTGf5p-2"
      },
      "source": [
        "## Uniformizando o texto"
      ]
    },
    {
      "cell_type": "code",
      "execution_count": null,
      "metadata": {
        "id": "LbCKdMd-5rCY",
        "colab": {
          "base_uri": "https://localhost:8080/"
        },
        "outputId": "b02a2db6-d352-40db-af34-ee3cf43b7ac1"
      },
      "outputs": [
        {
          "output_type": "stream",
          "name": "stdout",
          "text": [
            "Requirement already satisfied: unidecode in /usr/local/lib/python3.11/dist-packages (1.3.8)\n"
          ]
        }
      ],
      "source": [
        "!pip install unidecode"
      ]
    },
    {
      "cell_type": "code",
      "source": [
        "import unidecode\n",
        "\n",
        "sem_acentos = [unidecode.unidecode(texto) for texto in dados['tratamento_1']]"
      ],
      "metadata": {
        "id": "sOrJHLEQvuOd"
      },
      "execution_count": null,
      "outputs": []
    },
    {
      "cell_type": "code",
      "source": [
        "dados['tratamento_2'] = sem_acentos\n",
        "dados['tratamento_2']"
      ],
      "metadata": {
        "id": "gowjdrtQvuHw",
        "colab": {
          "base_uri": "https://localhost:8080/",
          "height": 458
        },
        "outputId": "19ba6b90-ee06-46cf-9fce-95852b7970c3"
      },
      "execution_count": null,
      "outputs": [
        {
          "output_type": "execute_result",
          "data": {
            "text/plain": [
              "0                        recebi bem antes prazo estipulado\n",
              "1        parabens lojas zoop adorei comprar internet se...\n",
              "2        aparelho eficiente site marca aparelho impress...\n",
              "3                              pouco travando valor ta boa\n",
              "4        vendedor confiavel produto ok entrega antes prazo\n",
              "                               ...                        \n",
              "39457    entregou dentro prazo produto chegou condicoes...\n",
              "39458    produto nao enviado nf nao existe venda nf cer...\n",
              "39459    excelente mochila entrega super rapida super r...\n",
              "39460    solicitei compra capa retrovisor celta prisma ...\n",
              "39461    produto chegou ja devolver pois defeito nao se...\n",
              "Name: tratamento_2, Length: 39462, dtype: object"
            ],
            "text/html": [
              "<div>\n",
              "<style scoped>\n",
              "    .dataframe tbody tr th:only-of-type {\n",
              "        vertical-align: middle;\n",
              "    }\n",
              "\n",
              "    .dataframe tbody tr th {\n",
              "        vertical-align: top;\n",
              "    }\n",
              "\n",
              "    .dataframe thead th {\n",
              "        text-align: right;\n",
              "    }\n",
              "</style>\n",
              "<table border=\"1\" class=\"dataframe\">\n",
              "  <thead>\n",
              "    <tr style=\"text-align: right;\">\n",
              "      <th></th>\n",
              "      <th>tratamento_2</th>\n",
              "    </tr>\n",
              "  </thead>\n",
              "  <tbody>\n",
              "    <tr>\n",
              "      <th>0</th>\n",
              "      <td>recebi bem antes prazo estipulado</td>\n",
              "    </tr>\n",
              "    <tr>\n",
              "      <th>1</th>\n",
              "      <td>parabens lojas zoop adorei comprar internet se...</td>\n",
              "    </tr>\n",
              "    <tr>\n",
              "      <th>2</th>\n",
              "      <td>aparelho eficiente site marca aparelho impress...</td>\n",
              "    </tr>\n",
              "    <tr>\n",
              "      <th>3</th>\n",
              "      <td>pouco travando valor ta boa</td>\n",
              "    </tr>\n",
              "    <tr>\n",
              "      <th>4</th>\n",
              "      <td>vendedor confiavel produto ok entrega antes prazo</td>\n",
              "    </tr>\n",
              "    <tr>\n",
              "      <th>...</th>\n",
              "      <td>...</td>\n",
              "    </tr>\n",
              "    <tr>\n",
              "      <th>39457</th>\n",
              "      <td>entregou dentro prazo produto chegou condicoes...</td>\n",
              "    </tr>\n",
              "    <tr>\n",
              "      <th>39458</th>\n",
              "      <td>produto nao enviado nf nao existe venda nf cer...</td>\n",
              "    </tr>\n",
              "    <tr>\n",
              "      <th>39459</th>\n",
              "      <td>excelente mochila entrega super rapida super r...</td>\n",
              "    </tr>\n",
              "    <tr>\n",
              "      <th>39460</th>\n",
              "      <td>solicitei compra capa retrovisor celta prisma ...</td>\n",
              "    </tr>\n",
              "    <tr>\n",
              "      <th>39461</th>\n",
              "      <td>produto chegou ja devolver pois defeito nao se...</td>\n",
              "    </tr>\n",
              "  </tbody>\n",
              "</table>\n",
              "<p>39462 rows × 1 columns</p>\n",
              "</div><br><label><b>dtype:</b> object</label>"
            ]
          },
          "metadata": {},
          "execution_count": 27
        }
      ]
    },
    {
      "cell_type": "code",
      "source": [
        "dados['review_token'] = dados['tratamento_2'].apply(word_tokenize_pt)\n",
        "dados_tag = [TaggedDocument(words=linha['review_token'], tags=[str(i)]) for i, linha in dados.iterrows()]\n",
        "modelo_doc2vec = Doc2Vec(dados_tag, vector_size=100, min_count=2, window=2, workers=1, seed=45, epochs=20)\n",
        "\n",
        "frases_similares = modelo_doc2vec.dv.most_similar([modelo_doc2vec.infer_vector(['entrega'])],topn=5)\n",
        "\n",
        "for idx, similaridade in frases_similares:\n",
        "    print(f\"Review: {dados.iloc[int(idx)]['tratamento_2']} - Similaridade: {similaridade:.4f}\")"
      ],
      "metadata": {
        "id": "mx8FhH5FvuAE",
        "colab": {
          "base_uri": "https://localhost:8080/"
        },
        "outputId": "fd1944c2-ceb6-46cf-8f2b-30ccc2583c98"
      },
      "execution_count": null,
      "outputs": [
        {
          "output_type": "stream",
          "name": "stdout",
          "text": [
            "Review: entrega antes prazo - Similaridade: 0.8624\n",
            "Review: entrega prazo produto conforme solicitado - Similaridade: 0.8619\n",
            "Review: entrega antes prazo - Similaridade: 0.8618\n",
            "Review: prazo entrega gigante assim conseguiram atrasar entrega - Similaridade: 0.8599\n",
            "Review: entrega nota 10 - Similaridade: 0.8542\n"
          ]
        }
      ]
    },
    {
      "cell_type": "markdown",
      "metadata": {
        "id": "U9J9aKOrDHoD"
      },
      "source": [
        "## Correções nos dados"
      ]
    },
    {
      "cell_type": "code",
      "source": [
        "df = dados.drop_duplicates(subset=['tratamento_2'])\n",
        "df"
      ],
      "metadata": {
        "id": "fYrk4e5Pvh-p",
        "colab": {
          "base_uri": "https://localhost:8080/",
          "height": 597
        },
        "outputId": "7d6dc6d5-4511-4bfa-cb3e-c470ec002d61"
      },
      "execution_count": null,
      "outputs": [
        {
          "output_type": "execute_result",
          "data": {
            "text/plain": [
              "       nota_review                                             review  \\\n",
              "0                5              Recebi bem antes do prazo estipulado.   \n",
              "1                5  Parabéns lojas Zoop adorei comprar pela Intern...   \n",
              "2                4  aparelho eficiente. no site a marca do aparelh...   \n",
              "3                4    Mas um pouco ,travando...pelo valor ta Boa.\\r\\n   \n",
              "4                5  Vendedor confiável, produto ok e entrega antes...   \n",
              "...            ...                                                ...   \n",
              "39457            5  Entregou dentro do prazo. O produto chegou em ...   \n",
              "39458            3  O produto não foi enviado com NF, não existe v...   \n",
              "39459            5  Excelente mochila, entrega super rápida. Super...   \n",
              "39460            1  Solicitei a compra de uma capa de retrovisor c...   \n",
              "39461            1  meu produto chegou e ja tenho que devolver, po...   \n",
              "\n",
              "                                            review_token  \\\n",
              "0                [recebi, bem, antes, prazo, estipulado]   \n",
              "1      [parabens, lojas, zoop, adorei, comprar, inter...   \n",
              "2      [aparelho, eficiente, site, marca, aparelho, i...   \n",
              "3                      [pouco, travando, valor, ta, boa]   \n",
              "4      [vendedor, confiavel, produto, ok, entrega, an...   \n",
              "...                                                  ...   \n",
              "39457  [entregou, dentro, prazo, produto, chegou, con...   \n",
              "39458  [produto, nao, enviado, nf, nao, existe, venda...   \n",
              "39459  [excelente, mochila, entrega, super, rapida, s...   \n",
              "39460  [solicitei, compra, capa, retrovisor, celta, p...   \n",
              "39461  [produto, chegou, ja, devolver, pois, defeito,...   \n",
              "\n",
              "                                            tratamento_1  \\\n",
              "0                      recebi bem antes prazo estipulado   \n",
              "1      parabéns lojas zoop adorei comprar internet se...   \n",
              "2      aparelho eficiente site marca aparelho impress...   \n",
              "3                            pouco travando valor ta boa   \n",
              "4      vendedor confiável produto ok entrega antes prazo   \n",
              "...                                                  ...   \n",
              "39457  entregou dentro prazo produto chegou condições...   \n",
              "39458  produto não enviado nf não existe venda nf cer...   \n",
              "39459  excelente mochila entrega super rápida super r...   \n",
              "39460  solicitei compra capa retrovisor celta prisma ...   \n",
              "39461  produto chegou ja devolver pois defeito não se...   \n",
              "\n",
              "                                            tratamento_2  \n",
              "0                      recebi bem antes prazo estipulado  \n",
              "1      parabens lojas zoop adorei comprar internet se...  \n",
              "2      aparelho eficiente site marca aparelho impress...  \n",
              "3                            pouco travando valor ta boa  \n",
              "4      vendedor confiavel produto ok entrega antes prazo  \n",
              "...                                                  ...  \n",
              "39457  entregou dentro prazo produto chegou condicoes...  \n",
              "39458  produto nao enviado nf nao existe venda nf cer...  \n",
              "39459  excelente mochila entrega super rapida super r...  \n",
              "39460  solicitei compra capa retrovisor celta prisma ...  \n",
              "39461  produto chegou ja devolver pois defeito nao se...  \n",
              "\n",
              "[31475 rows x 5 columns]"
            ],
            "text/html": [
              "\n",
              "  <div id=\"df-b7519c38-ea78-4c8a-a287-ecbab7cc38d7\" class=\"colab-df-container\">\n",
              "    <div>\n",
              "<style scoped>\n",
              "    .dataframe tbody tr th:only-of-type {\n",
              "        vertical-align: middle;\n",
              "    }\n",
              "\n",
              "    .dataframe tbody tr th {\n",
              "        vertical-align: top;\n",
              "    }\n",
              "\n",
              "    .dataframe thead th {\n",
              "        text-align: right;\n",
              "    }\n",
              "</style>\n",
              "<table border=\"1\" class=\"dataframe\">\n",
              "  <thead>\n",
              "    <tr style=\"text-align: right;\">\n",
              "      <th></th>\n",
              "      <th>nota_review</th>\n",
              "      <th>review</th>\n",
              "      <th>review_token</th>\n",
              "      <th>tratamento_1</th>\n",
              "      <th>tratamento_2</th>\n",
              "    </tr>\n",
              "  </thead>\n",
              "  <tbody>\n",
              "    <tr>\n",
              "      <th>0</th>\n",
              "      <td>5</td>\n",
              "      <td>Recebi bem antes do prazo estipulado.</td>\n",
              "      <td>[recebi, bem, antes, prazo, estipulado]</td>\n",
              "      <td>recebi bem antes prazo estipulado</td>\n",
              "      <td>recebi bem antes prazo estipulado</td>\n",
              "    </tr>\n",
              "    <tr>\n",
              "      <th>1</th>\n",
              "      <td>5</td>\n",
              "      <td>Parabéns lojas Zoop adorei comprar pela Intern...</td>\n",
              "      <td>[parabens, lojas, zoop, adorei, comprar, inter...</td>\n",
              "      <td>parabéns lojas zoop adorei comprar internet se...</td>\n",
              "      <td>parabens lojas zoop adorei comprar internet se...</td>\n",
              "    </tr>\n",
              "    <tr>\n",
              "      <th>2</th>\n",
              "      <td>4</td>\n",
              "      <td>aparelho eficiente. no site a marca do aparelh...</td>\n",
              "      <td>[aparelho, eficiente, site, marca, aparelho, i...</td>\n",
              "      <td>aparelho eficiente site marca aparelho impress...</td>\n",
              "      <td>aparelho eficiente site marca aparelho impress...</td>\n",
              "    </tr>\n",
              "    <tr>\n",
              "      <th>3</th>\n",
              "      <td>4</td>\n",
              "      <td>Mas um pouco ,travando...pelo valor ta Boa.\\r\\n</td>\n",
              "      <td>[pouco, travando, valor, ta, boa]</td>\n",
              "      <td>pouco travando valor ta boa</td>\n",
              "      <td>pouco travando valor ta boa</td>\n",
              "    </tr>\n",
              "    <tr>\n",
              "      <th>4</th>\n",
              "      <td>5</td>\n",
              "      <td>Vendedor confiável, produto ok e entrega antes...</td>\n",
              "      <td>[vendedor, confiavel, produto, ok, entrega, an...</td>\n",
              "      <td>vendedor confiável produto ok entrega antes prazo</td>\n",
              "      <td>vendedor confiavel produto ok entrega antes prazo</td>\n",
              "    </tr>\n",
              "    <tr>\n",
              "      <th>...</th>\n",
              "      <td>...</td>\n",
              "      <td>...</td>\n",
              "      <td>...</td>\n",
              "      <td>...</td>\n",
              "      <td>...</td>\n",
              "    </tr>\n",
              "    <tr>\n",
              "      <th>39457</th>\n",
              "      <td>5</td>\n",
              "      <td>Entregou dentro do prazo. O produto chegou em ...</td>\n",
              "      <td>[entregou, dentro, prazo, produto, chegou, con...</td>\n",
              "      <td>entregou dentro prazo produto chegou condições...</td>\n",
              "      <td>entregou dentro prazo produto chegou condicoes...</td>\n",
              "    </tr>\n",
              "    <tr>\n",
              "      <th>39458</th>\n",
              "      <td>3</td>\n",
              "      <td>O produto não foi enviado com NF, não existe v...</td>\n",
              "      <td>[produto, nao, enviado, nf, nao, existe, venda...</td>\n",
              "      <td>produto não enviado nf não existe venda nf cer...</td>\n",
              "      <td>produto nao enviado nf nao existe venda nf cer...</td>\n",
              "    </tr>\n",
              "    <tr>\n",
              "      <th>39459</th>\n",
              "      <td>5</td>\n",
              "      <td>Excelente mochila, entrega super rápida. Super...</td>\n",
              "      <td>[excelente, mochila, entrega, super, rapida, s...</td>\n",
              "      <td>excelente mochila entrega super rápida super r...</td>\n",
              "      <td>excelente mochila entrega super rapida super r...</td>\n",
              "    </tr>\n",
              "    <tr>\n",
              "      <th>39460</th>\n",
              "      <td>1</td>\n",
              "      <td>Solicitei a compra de uma capa de retrovisor c...</td>\n",
              "      <td>[solicitei, compra, capa, retrovisor, celta, p...</td>\n",
              "      <td>solicitei compra capa retrovisor celta prisma ...</td>\n",
              "      <td>solicitei compra capa retrovisor celta prisma ...</td>\n",
              "    </tr>\n",
              "    <tr>\n",
              "      <th>39461</th>\n",
              "      <td>1</td>\n",
              "      <td>meu produto chegou e ja tenho que devolver, po...</td>\n",
              "      <td>[produto, chegou, ja, devolver, pois, defeito,...</td>\n",
              "      <td>produto chegou ja devolver pois defeito não se...</td>\n",
              "      <td>produto chegou ja devolver pois defeito nao se...</td>\n",
              "    </tr>\n",
              "  </tbody>\n",
              "</table>\n",
              "<p>31475 rows × 5 columns</p>\n",
              "</div>\n",
              "    <div class=\"colab-df-buttons\">\n",
              "\n",
              "  <div class=\"colab-df-container\">\n",
              "    <button class=\"colab-df-convert\" onclick=\"convertToInteractive('df-b7519c38-ea78-4c8a-a287-ecbab7cc38d7')\"\n",
              "            title=\"Convert this dataframe to an interactive table.\"\n",
              "            style=\"display:none;\">\n",
              "\n",
              "  <svg xmlns=\"http://www.w3.org/2000/svg\" height=\"24px\" viewBox=\"0 -960 960 960\">\n",
              "    <path d=\"M120-120v-720h720v720H120Zm60-500h600v-160H180v160Zm220 220h160v-160H400v160Zm0 220h160v-160H400v160ZM180-400h160v-160H180v160Zm440 0h160v-160H620v160ZM180-180h160v-160H180v160Zm440 0h160v-160H620v160Z\"/>\n",
              "  </svg>\n",
              "    </button>\n",
              "\n",
              "  <style>\n",
              "    .colab-df-container {\n",
              "      display:flex;\n",
              "      gap: 12px;\n",
              "    }\n",
              "\n",
              "    .colab-df-convert {\n",
              "      background-color: #E8F0FE;\n",
              "      border: none;\n",
              "      border-radius: 50%;\n",
              "      cursor: pointer;\n",
              "      display: none;\n",
              "      fill: #1967D2;\n",
              "      height: 32px;\n",
              "      padding: 0 0 0 0;\n",
              "      width: 32px;\n",
              "    }\n",
              "\n",
              "    .colab-df-convert:hover {\n",
              "      background-color: #E2EBFA;\n",
              "      box-shadow: 0px 1px 2px rgba(60, 64, 67, 0.3), 0px 1px 3px 1px rgba(60, 64, 67, 0.15);\n",
              "      fill: #174EA6;\n",
              "    }\n",
              "\n",
              "    .colab-df-buttons div {\n",
              "      margin-bottom: 4px;\n",
              "    }\n",
              "\n",
              "    [theme=dark] .colab-df-convert {\n",
              "      background-color: #3B4455;\n",
              "      fill: #D2E3FC;\n",
              "    }\n",
              "\n",
              "    [theme=dark] .colab-df-convert:hover {\n",
              "      background-color: #434B5C;\n",
              "      box-shadow: 0px 1px 3px 1px rgba(0, 0, 0, 0.15);\n",
              "      filter: drop-shadow(0px 1px 2px rgba(0, 0, 0, 0.3));\n",
              "      fill: #FFFFFF;\n",
              "    }\n",
              "  </style>\n",
              "\n",
              "    <script>\n",
              "      const buttonEl =\n",
              "        document.querySelector('#df-b7519c38-ea78-4c8a-a287-ecbab7cc38d7 button.colab-df-convert');\n",
              "      buttonEl.style.display =\n",
              "        google.colab.kernel.accessAllowed ? 'block' : 'none';\n",
              "\n",
              "      async function convertToInteractive(key) {\n",
              "        const element = document.querySelector('#df-b7519c38-ea78-4c8a-a287-ecbab7cc38d7');\n",
              "        const dataTable =\n",
              "          await google.colab.kernel.invokeFunction('convertToInteractive',\n",
              "                                                    [key], {});\n",
              "        if (!dataTable) return;\n",
              "\n",
              "        const docLinkHtml = 'Like what you see? Visit the ' +\n",
              "          '<a target=\"_blank\" href=https://colab.research.google.com/notebooks/data_table.ipynb>data table notebook</a>'\n",
              "          + ' to learn more about interactive tables.';\n",
              "        element.innerHTML = '';\n",
              "        dataTable['output_type'] = 'display_data';\n",
              "        await google.colab.output.renderOutput(dataTable, element);\n",
              "        const docLink = document.createElement('div');\n",
              "        docLink.innerHTML = docLinkHtml;\n",
              "        element.appendChild(docLink);\n",
              "      }\n",
              "    </script>\n",
              "  </div>\n",
              "\n",
              "\n",
              "<div id=\"df-fa7ee9fb-7af7-417d-9cb4-a16185d1a7bd\">\n",
              "  <button class=\"colab-df-quickchart\" onclick=\"quickchart('df-fa7ee9fb-7af7-417d-9cb4-a16185d1a7bd')\"\n",
              "            title=\"Suggest charts\"\n",
              "            style=\"display:none;\">\n",
              "\n",
              "<svg xmlns=\"http://www.w3.org/2000/svg\" height=\"24px\"viewBox=\"0 0 24 24\"\n",
              "     width=\"24px\">\n",
              "    <g>\n",
              "        <path d=\"M19 3H5c-1.1 0-2 .9-2 2v14c0 1.1.9 2 2 2h14c1.1 0 2-.9 2-2V5c0-1.1-.9-2-2-2zM9 17H7v-7h2v7zm4 0h-2V7h2v10zm4 0h-2v-4h2v4z\"/>\n",
              "    </g>\n",
              "</svg>\n",
              "  </button>\n",
              "\n",
              "<style>\n",
              "  .colab-df-quickchart {\n",
              "      --bg-color: #E8F0FE;\n",
              "      --fill-color: #1967D2;\n",
              "      --hover-bg-color: #E2EBFA;\n",
              "      --hover-fill-color: #174EA6;\n",
              "      --disabled-fill-color: #AAA;\n",
              "      --disabled-bg-color: #DDD;\n",
              "  }\n",
              "\n",
              "  [theme=dark] .colab-df-quickchart {\n",
              "      --bg-color: #3B4455;\n",
              "      --fill-color: #D2E3FC;\n",
              "      --hover-bg-color: #434B5C;\n",
              "      --hover-fill-color: #FFFFFF;\n",
              "      --disabled-bg-color: #3B4455;\n",
              "      --disabled-fill-color: #666;\n",
              "  }\n",
              "\n",
              "  .colab-df-quickchart {\n",
              "    background-color: var(--bg-color);\n",
              "    border: none;\n",
              "    border-radius: 50%;\n",
              "    cursor: pointer;\n",
              "    display: none;\n",
              "    fill: var(--fill-color);\n",
              "    height: 32px;\n",
              "    padding: 0;\n",
              "    width: 32px;\n",
              "  }\n",
              "\n",
              "  .colab-df-quickchart:hover {\n",
              "    background-color: var(--hover-bg-color);\n",
              "    box-shadow: 0 1px 2px rgba(60, 64, 67, 0.3), 0 1px 3px 1px rgba(60, 64, 67, 0.15);\n",
              "    fill: var(--button-hover-fill-color);\n",
              "  }\n",
              "\n",
              "  .colab-df-quickchart-complete:disabled,\n",
              "  .colab-df-quickchart-complete:disabled:hover {\n",
              "    background-color: var(--disabled-bg-color);\n",
              "    fill: var(--disabled-fill-color);\n",
              "    box-shadow: none;\n",
              "  }\n",
              "\n",
              "  .colab-df-spinner {\n",
              "    border: 2px solid var(--fill-color);\n",
              "    border-color: transparent;\n",
              "    border-bottom-color: var(--fill-color);\n",
              "    animation:\n",
              "      spin 1s steps(1) infinite;\n",
              "  }\n",
              "\n",
              "  @keyframes spin {\n",
              "    0% {\n",
              "      border-color: transparent;\n",
              "      border-bottom-color: var(--fill-color);\n",
              "      border-left-color: var(--fill-color);\n",
              "    }\n",
              "    20% {\n",
              "      border-color: transparent;\n",
              "      border-left-color: var(--fill-color);\n",
              "      border-top-color: var(--fill-color);\n",
              "    }\n",
              "    30% {\n",
              "      border-color: transparent;\n",
              "      border-left-color: var(--fill-color);\n",
              "      border-top-color: var(--fill-color);\n",
              "      border-right-color: var(--fill-color);\n",
              "    }\n",
              "    40% {\n",
              "      border-color: transparent;\n",
              "      border-right-color: var(--fill-color);\n",
              "      border-top-color: var(--fill-color);\n",
              "    }\n",
              "    60% {\n",
              "      border-color: transparent;\n",
              "      border-right-color: var(--fill-color);\n",
              "    }\n",
              "    80% {\n",
              "      border-color: transparent;\n",
              "      border-right-color: var(--fill-color);\n",
              "      border-bottom-color: var(--fill-color);\n",
              "    }\n",
              "    90% {\n",
              "      border-color: transparent;\n",
              "      border-bottom-color: var(--fill-color);\n",
              "    }\n",
              "  }\n",
              "</style>\n",
              "\n",
              "  <script>\n",
              "    async function quickchart(key) {\n",
              "      const quickchartButtonEl =\n",
              "        document.querySelector('#' + key + ' button');\n",
              "      quickchartButtonEl.disabled = true;  // To prevent multiple clicks.\n",
              "      quickchartButtonEl.classList.add('colab-df-spinner');\n",
              "      try {\n",
              "        const charts = await google.colab.kernel.invokeFunction(\n",
              "            'suggestCharts', [key], {});\n",
              "      } catch (error) {\n",
              "        console.error('Error during call to suggestCharts:', error);\n",
              "      }\n",
              "      quickchartButtonEl.classList.remove('colab-df-spinner');\n",
              "      quickchartButtonEl.classList.add('colab-df-quickchart-complete');\n",
              "    }\n",
              "    (() => {\n",
              "      let quickchartButtonEl =\n",
              "        document.querySelector('#df-fa7ee9fb-7af7-417d-9cb4-a16185d1a7bd button');\n",
              "      quickchartButtonEl.style.display =\n",
              "        google.colab.kernel.accessAllowed ? 'block' : 'none';\n",
              "    })();\n",
              "  </script>\n",
              "</div>\n",
              "\n",
              "  <div id=\"id_befe5df4-d4a8-4976-ae05-5171147aa45e\">\n",
              "    <style>\n",
              "      .colab-df-generate {\n",
              "        background-color: #E8F0FE;\n",
              "        border: none;\n",
              "        border-radius: 50%;\n",
              "        cursor: pointer;\n",
              "        display: none;\n",
              "        fill: #1967D2;\n",
              "        height: 32px;\n",
              "        padding: 0 0 0 0;\n",
              "        width: 32px;\n",
              "      }\n",
              "\n",
              "      .colab-df-generate:hover {\n",
              "        background-color: #E2EBFA;\n",
              "        box-shadow: 0px 1px 2px rgba(60, 64, 67, 0.3), 0px 1px 3px 1px rgba(60, 64, 67, 0.15);\n",
              "        fill: #174EA6;\n",
              "      }\n",
              "\n",
              "      [theme=dark] .colab-df-generate {\n",
              "        background-color: #3B4455;\n",
              "        fill: #D2E3FC;\n",
              "      }\n",
              "\n",
              "      [theme=dark] .colab-df-generate:hover {\n",
              "        background-color: #434B5C;\n",
              "        box-shadow: 0px 1px 3px 1px rgba(0, 0, 0, 0.15);\n",
              "        filter: drop-shadow(0px 1px 2px rgba(0, 0, 0, 0.3));\n",
              "        fill: #FFFFFF;\n",
              "      }\n",
              "    </style>\n",
              "    <button class=\"colab-df-generate\" onclick=\"generateWithVariable('df')\"\n",
              "            title=\"Generate code using this dataframe.\"\n",
              "            style=\"display:none;\">\n",
              "\n",
              "  <svg xmlns=\"http://www.w3.org/2000/svg\" height=\"24px\"viewBox=\"0 0 24 24\"\n",
              "       width=\"24px\">\n",
              "    <path d=\"M7,19H8.4L18.45,9,17,7.55,7,17.6ZM5,21V16.75L18.45,3.32a2,2,0,0,1,2.83,0l1.4,1.43a1.91,1.91,0,0,1,.58,1.4,1.91,1.91,0,0,1-.58,1.4L9.25,21ZM18.45,9,17,7.55Zm-12,3A5.31,5.31,0,0,0,4.9,8.1,5.31,5.31,0,0,0,1,6.5,5.31,5.31,0,0,0,4.9,4.9,5.31,5.31,0,0,0,6.5,1,5.31,5.31,0,0,0,8.1,4.9,5.31,5.31,0,0,0,12,6.5,5.46,5.46,0,0,0,6.5,12Z\"/>\n",
              "  </svg>\n",
              "    </button>\n",
              "    <script>\n",
              "      (() => {\n",
              "      const buttonEl =\n",
              "        document.querySelector('#id_befe5df4-d4a8-4976-ae05-5171147aa45e button.colab-df-generate');\n",
              "      buttonEl.style.display =\n",
              "        google.colab.kernel.accessAllowed ? 'block' : 'none';\n",
              "\n",
              "      buttonEl.onclick = () => {\n",
              "        google.colab.notebook.generateWithVariable('df');\n",
              "      }\n",
              "      })();\n",
              "    </script>\n",
              "  </div>\n",
              "\n",
              "    </div>\n",
              "  </div>\n"
            ],
            "application/vnd.google.colaboratory.intrinsic+json": {
              "type": "dataframe",
              "variable_name": "df",
              "summary": "{\n  \"name\": \"df\",\n  \"rows\": 31475,\n  \"fields\": [\n    {\n      \"column\": \"nota_review\",\n      \"properties\": {\n        \"dtype\": \"number\",\n        \"std\": 1,\n        \"min\": 1,\n        \"max\": 5,\n        \"num_unique_values\": 5,\n        \"samples\": [\n          4,\n          3,\n          2\n        ],\n        \"semantic_type\": \"\",\n        \"description\": \"\"\n      }\n    },\n    {\n      \"column\": \"review\",\n      \"properties\": {\n        \"dtype\": \"string\",\n        \"num_unique_values\": 31475,\n        \"samples\": [\n          \"Produto entregue lacrado e em perfeito estado.\",\n          \"Recebi parte da minha encomenda apenas. \\u00c9 uma pena porque o produto \\u00e9 \\u00f3timo e veio no prazo. N\\u00e3o entendi porque n\\u00e3o veio completo.\",\n          \"Entrega mto r\\u00e1pida, antes do prazo. Produto excelente! \"\n        ],\n        \"semantic_type\": \"\",\n        \"description\": \"\"\n      }\n    },\n    {\n      \"column\": \"review_token\",\n      \"properties\": {\n        \"dtype\": \"object\",\n        \"semantic_type\": \"\",\n        \"description\": \"\"\n      }\n    },\n    {\n      \"column\": \"tratamento_1\",\n      \"properties\": {\n        \"dtype\": \"string\",\n        \"num_unique_values\": 31475,\n        \"samples\": [\n          \"produto entregue lacrado perfeito estado\",\n          \"recebi parte encomenda apenas pena porque produto \\u00f3timo veio prazo n\\u00e3o entendi porque n\\u00e3o veio completo\",\n          \"entrega mto r\\u00e1pida antes prazo produto excelente\"\n        ],\n        \"semantic_type\": \"\",\n        \"description\": \"\"\n      }\n    },\n    {\n      \"column\": \"tratamento_2\",\n      \"properties\": {\n        \"dtype\": \"string\",\n        \"num_unique_values\": 31475,\n        \"samples\": [\n          \"produto entregue lacrado perfeito estado\",\n          \"recebi parte encomenda apenas pena porque produto otimo veio prazo nao entendi porque nao veio completo\",\n          \"entrega mto rapida antes prazo produto excelente\"\n        ],\n        \"semantic_type\": \"\",\n        \"description\": \"\"\n      }\n    }\n  ]\n}"
            }
          },
          "metadata": {},
          "execution_count": 29
        }
      ]
    },
    {
      "cell_type": "code",
      "execution_count": null,
      "metadata": {
        "id": "Huw1Bc1L_Rdy",
        "colab": {
          "base_uri": "https://localhost:8080/",
          "height": 35
        },
        "outputId": "5012b370-31b7-4dda-88e3-5de860b633a9"
      },
      "outputs": [
        {
          "output_type": "execute_result",
          "data": {
            "text/plain": [
              "'A'"
            ],
            "application/vnd.google.colaboratory.intrinsic+json": {
              "type": "string"
            }
          },
          "metadata": {},
          "execution_count": 30
        }
      ],
      "source": [
        "df['review'][120]"
      ]
    },
    {
      "cell_type": "code",
      "execution_count": null,
      "metadata": {
        "id": "y4M2qxViFBZN",
        "colab": {
          "base_uri": "https://localhost:8080/",
          "height": 35
        },
        "outputId": "0206c1e2-8f69-4d55-9bd2-5feda43020b9"
      },
      "outputs": [
        {
          "output_type": "execute_result",
          "data": {
            "text/plain": [
              "''"
            ],
            "application/vnd.google.colaboratory.intrinsic+json": {
              "type": "string"
            }
          },
          "metadata": {},
          "execution_count": 31
        }
      ],
      "source": [
        "df['tratamento_2'][120]"
      ]
    },
    {
      "cell_type": "code",
      "source": [
        "df = df[df['tratamento_2'] != '']"
      ],
      "metadata": {
        "id": "sQjLthZKvj1W"
      },
      "execution_count": null,
      "outputs": []
    },
    {
      "cell_type": "code",
      "execution_count": null,
      "metadata": {
        "id": "hqQlIZ-3GQWJ",
        "colab": {
          "base_uri": "https://localhost:8080/",
          "height": 35
        },
        "outputId": "08ed66a1-cccc-4bd6-81c7-b92fe42c80fd"
      },
      "outputs": [
        {
          "output_type": "execute_result",
          "data": {
            "text/plain": [
              "'simplismeente ameiii'"
            ],
            "application/vnd.google.colaboratory.intrinsic+json": {
              "type": "string"
            }
          },
          "metadata": {},
          "execution_count": 33
        }
      ],
      "source": [
        "df['tratamento_2'][3319]"
      ]
    },
    {
      "cell_type": "code",
      "execution_count": null,
      "metadata": {
        "id": "kRqx3FxxGbTc",
        "colab": {
          "base_uri": "https://localhost:8080/",
          "height": 35
        },
        "outputId": "329a2e35-7292-4aac-f976-4d8e3d167216"
      },
      "outputs": [
        {
          "output_type": "execute_result",
          "data": {
            "text/plain": [
              "'recebi rapido antes prazo otimo qualidade adoreii'"
            ],
            "application/vnd.google.colaboratory.intrinsic+json": {
              "type": "string"
            }
          },
          "metadata": {},
          "execution_count": 34
        }
      ],
      "source": [
        "df['tratamento_2'][8354]"
      ]
    },
    {
      "cell_type": "code",
      "execution_count": null,
      "metadata": {
        "id": "p5MIoC81GpOz",
        "colab": {
          "base_uri": "https://localhost:8080/",
          "height": 35
        },
        "outputId": "7fa3f7fa-437f-4704-fab2-e67187392cf8"
      },
      "outputs": [
        {
          "output_type": "execute_result",
          "data": {
            "text/plain": [
              "'produto chegou direitinho antes muuuito antes prazo superou expectativas'"
            ],
            "application/vnd.google.colaboratory.intrinsic+json": {
              "type": "string"
            }
          },
          "metadata": {},
          "execution_count": 35
        }
      ],
      "source": [
        "df['tratamento_2'][12843]"
      ]
    },
    {
      "cell_type": "code",
      "source": [
        "def normalizar_repeticoes(texto):\n",
        "  return re.sub(r'(?!rr|ss)(.)\\1+', r'\\1', texto)\n",
        "\n",
        "df['tratamento_3'] = df['tratamento_2'].apply(normalizar_repeticoes)"
      ],
      "metadata": {
        "id": "o7vXNXw1vdZ3",
        "colab": {
          "base_uri": "https://localhost:8080/"
        },
        "outputId": "f9167c7d-2286-46e8-eb81-df5b24c54bbd"
      },
      "execution_count": null,
      "outputs": [
        {
          "output_type": "stream",
          "name": "stderr",
          "text": [
            "<ipython-input-36-696f58db5688>:4: SettingWithCopyWarning: \n",
            "A value is trying to be set on a copy of a slice from a DataFrame.\n",
            "Try using .loc[row_indexer,col_indexer] = value instead\n",
            "\n",
            "See the caveats in the documentation: https://pandas.pydata.org/pandas-docs/stable/user_guide/indexing.html#returning-a-view-versus-a-copy\n",
            "  df['tratamento_3'] = df['tratamento_2'].apply(normalizar_repeticoes)\n"
          ]
        }
      ]
    },
    {
      "cell_type": "code",
      "execution_count": null,
      "metadata": {
        "id": "7EYjG-ZKHBal",
        "colab": {
          "base_uri": "https://localhost:8080/",
          "height": 35
        },
        "outputId": "89626c6c-75ca-442a-aaa7-717cf930b9ec"
      },
      "outputs": [
        {
          "output_type": "execute_result",
          "data": {
            "text/plain": [
              "'simplismente amei'"
            ],
            "application/vnd.google.colaboratory.intrinsic+json": {
              "type": "string"
            }
          },
          "metadata": {},
          "execution_count": 37
        }
      ],
      "source": [
        "df['tratamento_3'][3319]"
      ]
    },
    {
      "cell_type": "code",
      "execution_count": null,
      "metadata": {
        "id": "X6ViObvyIiQE",
        "colab": {
          "base_uri": "https://localhost:8080/",
          "height": 35
        },
        "outputId": "5c79a1ae-1216-4b90-b26e-ac5a773311f8"
      },
      "outputs": [
        {
          "output_type": "execute_result",
          "data": {
            "text/plain": [
              "'recebi rapido antes prazo otimo qualidade adorei'"
            ],
            "application/vnd.google.colaboratory.intrinsic+json": {
              "type": "string"
            }
          },
          "metadata": {},
          "execution_count": 38
        }
      ],
      "source": [
        "df['tratamento_3'][8354]"
      ]
    },
    {
      "cell_type": "code",
      "source": [
        "df.reset_index(drop=True, inplace=True)"
      ],
      "metadata": {
        "id": "8zPh_IKGvbfm"
      },
      "execution_count": null,
      "outputs": []
    },
    {
      "cell_type": "markdown",
      "metadata": {
        "id": "-XIOufPODKmy"
      },
      "source": [
        "## Lematização"
      ]
    },
    {
      "cell_type": "code",
      "execution_count": null,
      "metadata": {
        "collapsed": true,
        "id": "Mwq5ujHLJCvl",
        "colab": {
          "base_uri": "https://localhost:8080/"
        },
        "outputId": "2ed933c7-cebc-416f-e855-628201b69a11"
      },
      "outputs": [
        {
          "output_type": "stream",
          "name": "stdout",
          "text": [
            "Requirement already satisfied: stanza in /usr/local/lib/python3.11/dist-packages (1.10.1)\n",
            "Requirement already satisfied: emoji in /usr/local/lib/python3.11/dist-packages (from stanza) (2.14.1)\n",
            "Requirement already satisfied: numpy in /usr/local/lib/python3.11/dist-packages (from stanza) (1.26.4)\n",
            "Requirement already satisfied: protobuf>=3.15.0 in /usr/local/lib/python3.11/dist-packages (from stanza) (4.25.6)\n",
            "Requirement already satisfied: requests in /usr/local/lib/python3.11/dist-packages (from stanza) (2.32.3)\n",
            "Requirement already satisfied: networkx in /usr/local/lib/python3.11/dist-packages (from stanza) (3.4.2)\n",
            "Requirement already satisfied: torch>=1.3.0 in /usr/local/lib/python3.11/dist-packages (from stanza) (2.5.1+cu124)\n",
            "Requirement already satisfied: tqdm in /usr/local/lib/python3.11/dist-packages (from stanza) (4.67.1)\n",
            "Requirement already satisfied: filelock in /usr/local/lib/python3.11/dist-packages (from torch>=1.3.0->stanza) (3.17.0)\n",
            "Requirement already satisfied: typing-extensions>=4.8.0 in /usr/local/lib/python3.11/dist-packages (from torch>=1.3.0->stanza) (4.12.2)\n",
            "Requirement already satisfied: jinja2 in /usr/local/lib/python3.11/dist-packages (from torch>=1.3.0->stanza) (3.1.5)\n",
            "Requirement already satisfied: fsspec in /usr/local/lib/python3.11/dist-packages (from torch>=1.3.0->stanza) (2024.10.0)\n",
            "Requirement already satisfied: nvidia-cuda-nvrtc-cu12==12.4.127 in /usr/local/lib/python3.11/dist-packages (from torch>=1.3.0->stanza) (12.4.127)\n",
            "Requirement already satisfied: nvidia-cuda-runtime-cu12==12.4.127 in /usr/local/lib/python3.11/dist-packages (from torch>=1.3.0->stanza) (12.4.127)\n",
            "Requirement already satisfied: nvidia-cuda-cupti-cu12==12.4.127 in /usr/local/lib/python3.11/dist-packages (from torch>=1.3.0->stanza) (12.4.127)\n",
            "Requirement already satisfied: nvidia-cudnn-cu12==9.1.0.70 in /usr/local/lib/python3.11/dist-packages (from torch>=1.3.0->stanza) (9.1.0.70)\n",
            "Requirement already satisfied: nvidia-cublas-cu12==12.4.5.8 in /usr/local/lib/python3.11/dist-packages (from torch>=1.3.0->stanza) (12.4.5.8)\n",
            "Requirement already satisfied: nvidia-cufft-cu12==11.2.1.3 in /usr/local/lib/python3.11/dist-packages (from torch>=1.3.0->stanza) (11.2.1.3)\n",
            "Requirement already satisfied: nvidia-curand-cu12==10.3.5.147 in /usr/local/lib/python3.11/dist-packages (from torch>=1.3.0->stanza) (10.3.5.147)\n",
            "Requirement already satisfied: nvidia-cusolver-cu12==11.6.1.9 in /usr/local/lib/python3.11/dist-packages (from torch>=1.3.0->stanza) (11.6.1.9)\n",
            "Requirement already satisfied: nvidia-cusparse-cu12==12.3.1.170 in /usr/local/lib/python3.11/dist-packages (from torch>=1.3.0->stanza) (12.3.1.170)\n",
            "Requirement already satisfied: nvidia-nccl-cu12==2.21.5 in /usr/local/lib/python3.11/dist-packages (from torch>=1.3.0->stanza) (2.21.5)\n",
            "Requirement already satisfied: nvidia-nvtx-cu12==12.4.127 in /usr/local/lib/python3.11/dist-packages (from torch>=1.3.0->stanza) (12.4.127)\n",
            "Requirement already satisfied: nvidia-nvjitlink-cu12==12.4.127 in /usr/local/lib/python3.11/dist-packages (from torch>=1.3.0->stanza) (12.4.127)\n",
            "Requirement already satisfied: triton==3.1.0 in /usr/local/lib/python3.11/dist-packages (from torch>=1.3.0->stanza) (3.1.0)\n",
            "Requirement already satisfied: sympy==1.13.1 in /usr/local/lib/python3.11/dist-packages (from torch>=1.3.0->stanza) (1.13.1)\n",
            "Requirement already satisfied: mpmath<1.4,>=1.1.0 in /usr/local/lib/python3.11/dist-packages (from sympy==1.13.1->torch>=1.3.0->stanza) (1.3.0)\n",
            "Requirement already satisfied: charset-normalizer<4,>=2 in /usr/local/lib/python3.11/dist-packages (from requests->stanza) (3.4.1)\n",
            "Requirement already satisfied: idna<4,>=2.5 in /usr/local/lib/python3.11/dist-packages (from requests->stanza) (3.10)\n",
            "Requirement already satisfied: urllib3<3,>=1.21.1 in /usr/local/lib/python3.11/dist-packages (from requests->stanza) (2.3.0)\n",
            "Requirement already satisfied: certifi>=2017.4.17 in /usr/local/lib/python3.11/dist-packages (from requests->stanza) (2025.1.31)\n",
            "Requirement already satisfied: MarkupSafe>=2.0 in /usr/local/lib/python3.11/dist-packages (from jinja2->torch>=1.3.0->stanza) (3.0.2)\n",
            "/usr/bin/python3: No module named stanza.download\n"
          ]
        }
      ],
      "source": [
        "!pip install stanza\n",
        "!python -m stanza.download pt"
      ]
    },
    {
      "cell_type": "code",
      "source": [
        "import stanza\n",
        "\n",
        "stanza.download('pt')\n",
        "nlp = stanza.Pipeline('pt', processors='tokenize,lemma', use_gpu=False, batch_size = 64, n_process=4)"
      ],
      "metadata": {
        "id": "3zRp4mrqvWoG",
        "colab": {
          "base_uri": "https://localhost:8080/",
          "height": 532,
          "referenced_widgets": [
            "354f6e7614c4462fa2f56a4a1dd32727",
            "2edd53c14d134f31b482d993b868747c",
            "e3d896a640b94995945b9d60be570fa9",
            "c554bf7c2b8840dc94bb5efcd8e379b2",
            "95face371bc84c0ebd2229d31b7e6d68",
            "43f981cf97034ffbbc56b67ca62f03e1",
            "df7e640543c44077b75332829a5dc2b9",
            "a49bac667a10433cb58dfc7c38f7b93c",
            "3c24f79a4f0e43d2bca6019085ea1d17",
            "0cd9ebcaa84f41bda36f8d834d8c1e6d",
            "9b3b0ba0385a4d38bdc82d25a8084543",
            "0d6d86067b5349e99469f9e22f584886",
            "683df70205b4405da46e289db3856993",
            "a92e8ce2ab254df08766bdc2ad86aa8c",
            "2a28e59bb51f4336b50834421d1bb32c",
            "259b00fde6f34dbd8bef769f35bc7523",
            "e9ee6930ad674a84b3c61a2d3c6ef336",
            "7dc57d36c8bc411a81c94ddb2c0b78fe",
            "f7d9484bb8a34b33bfc85fb44c31190e",
            "0bb7ebe6b7884083b4e56018c985c746",
            "f37055cb41a2405bb7eeb73bcda0a58c",
            "cc87d094a6224a84b61554c29d3510ad"
          ]
        },
        "outputId": "db8ecba4-b971-494d-c261-50a8ef62dfe3"
      },
      "execution_count": null,
      "outputs": [
        {
          "output_type": "display_data",
          "data": {
            "text/plain": [
              "Downloading https://raw.githubusercontent.com/stanfordnlp/stanza-resources/main/resources_1.10.0.json:   0%|  …"
            ],
            "application/vnd.jupyter.widget-view+json": {
              "version_major": 2,
              "version_minor": 0,
              "model_id": "354f6e7614c4462fa2f56a4a1dd32727"
            }
          },
          "metadata": {}
        },
        {
          "output_type": "stream",
          "name": "stderr",
          "text": [
            "INFO:stanza:Downloaded file to /root/stanza_resources/resources.json\n",
            "INFO:stanza:Downloading default packages for language: pt (Portuguese) ...\n",
            "INFO:stanza:File exists: /root/stanza_resources/pt/default.zip\n",
            "INFO:stanza:Finished downloading models and saved to /root/stanza_resources\n",
            "INFO:stanza:Checking for updates to resources.json in case models have been updated.  Note: this behavior can be turned off with download_method=None or download_method=DownloadMethod.REUSE_RESOURCES\n"
          ]
        },
        {
          "output_type": "display_data",
          "data": {
            "text/plain": [
              "Downloading https://raw.githubusercontent.com/stanfordnlp/stanza-resources/main/resources_1.10.0.json:   0%|  …"
            ],
            "application/vnd.jupyter.widget-view+json": {
              "version_major": 2,
              "version_minor": 0,
              "model_id": "0d6d86067b5349e99469f9e22f584886"
            }
          },
          "metadata": {}
        },
        {
          "output_type": "stream",
          "name": "stderr",
          "text": [
            "INFO:stanza:Downloaded file to /root/stanza_resources/resources.json\n",
            "WARNING:stanza:Language pt package default expects mwt, which has been added\n",
            "INFO:stanza:Loading these models for language: pt (Portuguese):\n",
            "===============================\n",
            "| Processor | Package         |\n",
            "-------------------------------\n",
            "| tokenize  | bosque          |\n",
            "| mwt       | bosque          |\n",
            "| lemma     | bosque_nocharlm |\n",
            "===============================\n",
            "\n",
            "INFO:stanza:Using device: cpu\n",
            "INFO:stanza:Loading: tokenize\n",
            "INFO:stanza:Loading: mwt\n",
            "INFO:stanza:Loading: lemma\n",
            "INFO:stanza:Done loading processors!\n"
          ]
        }
      ]
    },
    {
      "cell_type": "code",
      "source": [
        "def lematizar_texto(textos):\n",
        "  texto_lematizados = []\n",
        "\n",
        "  for texto in textos:\n",
        "    doc_frase = nlp(texto)\n",
        "    frase_lematizada = ' '.join([palavra.lemma for frase in doc_frase.sentences for palavra in frase.words])\n",
        "    texto_lematizados.append(frase_lematizada)\n",
        "\n",
        "  return texto_lematizados"
      ],
      "metadata": {
        "id": "AzmHVsATXuum"
      },
      "execution_count": null,
      "outputs": []
    },
    {
      "cell_type": "code",
      "source": [
        "textos = ['gostei muito experiencia comprar',\n",
        "          'minha filha gostou produto',\n",
        "          'compra foi facil compra rapida']\n",
        "\n",
        "lematizar_texto(textos)"
      ],
      "metadata": {
        "id": "c-UC_LsfX92a",
        "colab": {
          "base_uri": "https://localhost:8080/"
        },
        "outputId": "6d8c5713-0c01-492e-c665-d117c6921999"
      },
      "execution_count": null,
      "outputs": [
        {
          "output_type": "execute_result",
          "data": {
            "text/plain": [
              "['gostar muito experiencia comprar',\n",
              " 'meu filha gostar produto',\n",
              " 'compra ser facil compra rapida']"
            ]
          },
          "metadata": {},
          "execution_count": 43
        }
      ]
    },
    {
      "cell_type": "code",
      "source": [
        "df['tratamento_4'] = lematizar_texto(df['tratamento_3'])"
      ],
      "metadata": {
        "id": "e55rCa0pvSUn",
        "colab": {
          "base_uri": "https://localhost:8080/"
        },
        "outputId": "0079c1e2-4710-491c-efc8-bacf63c62ba6"
      },
      "execution_count": null,
      "outputs": [
        {
          "output_type": "stream",
          "name": "stderr",
          "text": [
            "<ipython-input-44-5e1b48a16cfb>:1: SettingWithCopyWarning: \n",
            "A value is trying to be set on a copy of a slice from a DataFrame.\n",
            "Try using .loc[row_indexer,col_indexer] = value instead\n",
            "\n",
            "See the caveats in the documentation: https://pandas.pydata.org/pandas-docs/stable/user_guide/indexing.html#returning-a-view-versus-a-copy\n",
            "  df['tratamento_4'] = lematizar_texto(df['tratamento_3'])\n"
          ]
        }
      ]
    },
    {
      "cell_type": "code",
      "source": [
        "df[\"tratamento_4\"]"
      ],
      "metadata": {
        "id": "Oml5-TSivSMx",
        "colab": {
          "base_uri": "https://localhost:8080/",
          "height": 458
        },
        "outputId": "31158fcc-6235-45c9-a43c-c44c70dc23cf"
      },
      "execution_count": null,
      "outputs": [
        {
          "output_type": "execute_result",
          "data": {
            "text/plain": [
              "0                        recebi bem antes prazo estipulado\n",
              "1        parabem loja zop adorei comprar internet segur...\n",
              "2        aparelho eficiente site marca aparelho imprimi...\n",
              "3                                pouco travar valor to bom\n",
              "4        vendedor confiavel produto ok entregar antes p...\n",
              "                               ...                        \n",
              "31469    entregar dentro prazo produto chegar condicoe ...\n",
              "31470    produto nao enviado em f nao existir venda em ...\n",
              "31471    excelente mochila entregar super rapida super ...\n",
              "31472    solicitei compra capa retrovisor celta prisma ...\n",
              "31473    produto chegar je devolver pois defeito nao se...\n",
              "Name: tratamento_4, Length: 31474, dtype: object"
            ],
            "text/html": [
              "<div>\n",
              "<style scoped>\n",
              "    .dataframe tbody tr th:only-of-type {\n",
              "        vertical-align: middle;\n",
              "    }\n",
              "\n",
              "    .dataframe tbody tr th {\n",
              "        vertical-align: top;\n",
              "    }\n",
              "\n",
              "    .dataframe thead th {\n",
              "        text-align: right;\n",
              "    }\n",
              "</style>\n",
              "<table border=\"1\" class=\"dataframe\">\n",
              "  <thead>\n",
              "    <tr style=\"text-align: right;\">\n",
              "      <th></th>\n",
              "      <th>tratamento_4</th>\n",
              "    </tr>\n",
              "  </thead>\n",
              "  <tbody>\n",
              "    <tr>\n",
              "      <th>0</th>\n",
              "      <td>recebi bem antes prazo estipulado</td>\n",
              "    </tr>\n",
              "    <tr>\n",
              "      <th>1</th>\n",
              "      <td>parabem loja zop adorei comprar internet segur...</td>\n",
              "    </tr>\n",
              "    <tr>\n",
              "      <th>2</th>\n",
              "      <td>aparelho eficiente site marca aparelho imprimi...</td>\n",
              "    </tr>\n",
              "    <tr>\n",
              "      <th>3</th>\n",
              "      <td>pouco travar valor to bom</td>\n",
              "    </tr>\n",
              "    <tr>\n",
              "      <th>4</th>\n",
              "      <td>vendedor confiavel produto ok entregar antes p...</td>\n",
              "    </tr>\n",
              "    <tr>\n",
              "      <th>...</th>\n",
              "      <td>...</td>\n",
              "    </tr>\n",
              "    <tr>\n",
              "      <th>31469</th>\n",
              "      <td>entregar dentro prazo produto chegar condicoe ...</td>\n",
              "    </tr>\n",
              "    <tr>\n",
              "      <th>31470</th>\n",
              "      <td>produto nao enviado em f nao existir venda em ...</td>\n",
              "    </tr>\n",
              "    <tr>\n",
              "      <th>31471</th>\n",
              "      <td>excelente mochila entregar super rapida super ...</td>\n",
              "    </tr>\n",
              "    <tr>\n",
              "      <th>31472</th>\n",
              "      <td>solicitei compra capa retrovisor celta prisma ...</td>\n",
              "    </tr>\n",
              "    <tr>\n",
              "      <th>31473</th>\n",
              "      <td>produto chegar je devolver pois defeito nao se...</td>\n",
              "    </tr>\n",
              "  </tbody>\n",
              "</table>\n",
              "<p>31474 rows × 1 columns</p>\n",
              "</div><br><label><b>dtype:</b> object</label>"
            ]
          },
          "metadata": {},
          "execution_count": 45
        }
      ]
    },
    {
      "cell_type": "markdown",
      "metadata": {
        "id": "rEA8_J65LR_0"
      },
      "source": [
        "# Aula 3 - Otimizando o Doc2vec"
      ]
    },
    {
      "cell_type": "code",
      "source": [
        "df_lem = df.drop_duplicates(subset='tratamento_4')\n",
        "df_lem.reset_index(drop=True, inplace=True)"
      ],
      "metadata": {
        "id": "Iv4wFjyDvG5g"
      },
      "execution_count": null,
      "outputs": []
    },
    {
      "cell_type": "code",
      "source": [
        "df_lem['review_token'] = df_lem['tratamento_4'].apply(word_tokenize_pt)\n",
        "dados_tag = [TaggedDocument(words=linha['review_token'], tags=[str(i)]) for i, linha in df_lem.iterrows()]\n",
        "modelo = Doc2Vec(dados_tag, vector_size=100, min_count=2, window=2,\n",
        "                 workers= 1, seed=45, epochs=20)\n",
        "frases_similares = modelo.dv.most_similar([modelo.infer_vector(['entrega'])],topn=5)\n",
        "for idx, similaridade in frases_similares:\n",
        "    print(f\"Review: {df_lem.iloc[int(idx)]['tratamento_4']} - Similaridade: {similaridade:.4f}\")"
      ],
      "metadata": {
        "id": "6yMCVGzBvGyn",
        "colab": {
          "base_uri": "https://localhost:8080/"
        },
        "outputId": "7e93429c-a6ee-48c0-d49b-8aca722a2c9d"
      },
      "execution_count": null,
      "outputs": [
        {
          "output_type": "stream",
          "name": "stderr",
          "text": [
            "<ipython-input-47-24e313764618>:1: SettingWithCopyWarning: \n",
            "A value is trying to be set on a copy of a slice from a DataFrame.\n",
            "Try using .loc[row_indexer,col_indexer] = value instead\n",
            "\n",
            "See the caveats in the documentation: https://pandas.pydata.org/pandas-docs/stable/user_guide/indexing.html#returning-a-view-versus-a-copy\n",
            "  df_lem['review_token'] = df_lem['tratamento_4'].apply(word_tokenize_pt)\n"
          ]
        },
        {
          "output_type": "stream",
          "name": "stdout",
          "text": [
            "Review: entrega demorando - Similaridade: 0.9134\n",
            "Review: ultimamente atrasar entrega - Similaridade: 0.8826\n",
            "Review: gostar entrega rapida - Similaridade: 0.8818\n",
            "Review: muito desencontro entrega produto - Similaridade: 0.8739\n",
            "Review: pedido chegar faltando item - Similaridade: 0.8710\n"
          ]
        }
      ]
    },
    {
      "cell_type": "markdown",
      "metadata": {
        "id": "Qx6ADjtqYX9h"
      },
      "source": [
        "## Treinamento do Doc2vec"
      ]
    },
    {
      "cell_type": "code",
      "source": [
        "modelo = Doc2Vec(vector_size=300, min_count=2, window=5, workers=1, seed=45, epochs=20)\n",
        "modelo.build_vocab(dados_tag)\n",
        "modelo.train(dados_tag, total_examples=modelo.corpus_count, epochs=modelo.epochs)"
      ],
      "metadata": {
        "id": "RDv5Hi7hvEuf"
      },
      "execution_count": null,
      "outputs": []
    },
    {
      "cell_type": "markdown",
      "metadata": {
        "id": "_mly_Iy7uKnx"
      },
      "source": [
        "## Verificando a similardade - Doc2Vec"
      ]
    },
    {
      "cell_type": "code",
      "source": [
        "frases_similares = modelo.dv.most_similar([modelo.infer_vector(['entrega'])],topn=5)\n",
        "\n",
        "for idx, similaridade in frases_similares:\n",
        "    print(f\"Review: {df_lem.iloc[int(idx)]['tratamento_1']} - Similaridade: {similaridade:.4f}\")"
      ],
      "metadata": {
        "id": "EAhAPw8pu_2s",
        "colab": {
          "base_uri": "https://localhost:8080/"
        },
        "outputId": "281307f3-ac68-43fe-ad81-a9ad4dd5a68a"
      },
      "execution_count": null,
      "outputs": [
        {
          "output_type": "stream",
          "name": "stdout",
          "text": [
            "Review: ultimamente atrasando entregas - Similaridade: 0.9009\n",
            "Review: sempre bem atendido - Similaridade: 0.8830\n",
            "Review: faltou itens - Similaridade: 0.8752\n",
            "Review: produtos certos achei deveriam entregues juntos compra achei pouco demorada entrega - Similaridade: 0.8740\n",
            "Review: pedido chegou faltando item - Similaridade: 0.8732\n"
          ]
        }
      ]
    },
    {
      "cell_type": "code",
      "source": [
        "frases_similares = modelo.dv.most_similar([modelo.infer_vector(['vendedor'])],topn=5)\n",
        "\n",
        "for idx, similaridade in frases_similares:\n",
        "    print(f\"Review: {df_lem.iloc[int(idx)]['tratamento_1']} - Similaridade: {similaridade:.4f}\")"
      ],
      "metadata": {
        "id": "XRPtTEVZu_rB",
        "colab": {
          "base_uri": "https://localhost:8080/"
        },
        "outputId": "02ad236e-fdbb-4799-bfce-2e6ae4f54a33"
      },
      "execution_count": null,
      "outputs": [
        {
          "output_type": "stream",
          "name": "stdout",
          "text": [
            "Review: compraria novamente vendedor - Similaridade: 0.9325\n",
            "Review: ótimo vendedor superou expectativas produto excelente - Similaridade: 0.9256\n",
            "Review: produto entregue recomendo vendedor - Similaridade: 0.9174\n",
            "Review: nota 10 vendedor - Similaridade: 0.9153\n",
            "Review: ótimo vendedor - Similaridade: 0.9151\n"
          ]
        }
      ]
    },
    {
      "cell_type": "code",
      "source": [
        "frases_similares = modelo.dv.most_similar([modelo.infer_vector(['reputacao loja'])],topn=5)\n",
        "\n",
        "for idx, similaridade in frases_similares:\n",
        "    print(f\"Review: {df_lem.iloc[int(idx)]['tratamento_1']} - Similaridade: {similaridade:.4f}\")"
      ],
      "metadata": {
        "id": "OY6XR2YRu_iA",
        "colab": {
          "base_uri": "https://localhost:8080/"
        },
        "outputId": "8983ed8f-7be3-4472-afcd-0d6e879c7119"
      },
      "execution_count": null,
      "outputs": [
        {
          "output_type": "stream",
          "name": "stdout",
          "text": [
            "Review: ldockcifjfjrh fjfjhry mbkdieoep - Similaridade: 0.1988\n",
            "Review: produto qualidade inferior não deveria aparecer propaganda baratheon pq sempre comprei produtos qualidade nessa empresa - Similaridade: 0.1957\n",
            "Review: produto entregue prazo porém não endereço buscá lo agência correios informação vendedor não deixou clara ato compra - Similaridade: 0.1934\n",
            "Review: chegou antes prazo site não atualiza movimentação mercadoria somente recebi informaram não culpa vendedor acho - Similaridade: 0.1918\n",
            "Review: recebi violão lugar câmera fiz reclamação site agora ão ir correio preciso troca realizada rápido possivel - Similaridade: 0.1892\n"
          ]
        }
      ]
    },
    {
      "cell_type": "markdown",
      "metadata": {
        "id": "02CTQJoVLUCV"
      },
      "source": [
        "# Aula 4 - Considerando o significado das frases"
      ]
    },
    {
      "cell_type": "code",
      "execution_count": null,
      "metadata": {
        "id": "0kE8qyX8YfbB"
      },
      "outputs": [],
      "source": [
        "modulo_url = 'https://tfhub.dev/google/universal-sentence-encoder/4'"
      ]
    },
    {
      "cell_type": "code",
      "source": [
        "import tensorflow_hub as hub\n",
        "\n",
        "modelo = hub.load(modulo_url)"
      ],
      "metadata": {
        "id": "ZX1EmV8juSaN"
      },
      "execution_count": null,
      "outputs": []
    },
    {
      "cell_type": "code",
      "source": [
        "modelo"
      ],
      "metadata": {
        "id": "tDeIOuDquSTk",
        "colab": {
          "base_uri": "https://localhost:8080/"
        },
        "outputId": "7faa2a82-e059-4db9-81f0-249151b3674a"
      },
      "execution_count": null,
      "outputs": [
        {
          "output_type": "execute_result",
          "data": {
            "text/plain": [
              "<tensorflow.python.saved_model.load.Loader._recreate_base_user_object.<locals>._UserObject at 0x7b2721bd3a50>"
            ]
          },
          "metadata": {},
          "execution_count": 54
        }
      ]
    },
    {
      "cell_type": "code",
      "source": [
        "reviews = df['tratamento_3'].tolist()\n",
        "reviews_emb = modelo(reviews)\n",
        "reviews_emb"
      ],
      "metadata": {
        "id": "cNj0pILbuT2r",
        "colab": {
          "base_uri": "https://localhost:8080/"
        },
        "outputId": "d3eb40ba-81f9-4229-cf83-186d5fdca0af"
      },
      "execution_count": null,
      "outputs": [
        {
          "output_type": "execute_result",
          "data": {
            "text/plain": [
              "<tf.Tensor: shape=(31474, 512), dtype=float32, numpy=\n",
              "array([[ 0.04775169,  0.01094663, -0.0541508 , ...,  0.09078011,\n",
              "        -0.02599917, -0.09261213],\n",
              "       [-0.00746649, -0.06605157, -0.04505714, ...,  0.05561579,\n",
              "        -0.02624756, -0.07801282],\n",
              "       [-0.00820429,  0.04282852, -0.02907449, ...,  0.07496072,\n",
              "        -0.06071885, -0.07618523],\n",
              "       ...,\n",
              "       [ 0.02074313, -0.0543616 , -0.06415588, ...,  0.0719423 ,\n",
              "         0.0105929 , -0.07603392],\n",
              "       [-0.04131037, -0.03054746,  0.01322938, ...,  0.06785525,\n",
              "        -0.0252889 , -0.07106064],\n",
              "       [ 0.05717909, -0.05808825, -0.02038886, ...,  0.07339787,\n",
              "        -0.06409648, -0.08014238]], dtype=float32)>"
            ]
          },
          "metadata": {},
          "execution_count": 55
        }
      ]
    },
    {
      "cell_type": "code",
      "source": [
        "from sklearn.metrics.pairwise import cosine_similarity\n",
        "\n",
        "cosine_similarity(reviews_emb)"
      ],
      "metadata": {
        "id": "dqjFRFqluTwf",
        "colab": {
          "base_uri": "https://localhost:8080/"
        },
        "outputId": "ac43cfe4-ce91-488b-f6b7-112d87cbcaee"
      },
      "execution_count": null,
      "outputs": [
        {
          "output_type": "execute_result",
          "data": {
            "text/plain": [
              "array([[1.0000002 , 0.61586297, 0.5175547 , ..., 0.5427756 , 0.57541025,\n",
              "        0.6691027 ],\n",
              "       [0.61586297, 0.99999994, 0.5666107 , ..., 0.63920605, 0.6011834 ,\n",
              "        0.6711744 ],\n",
              "       [0.5175547 , 0.5666107 , 0.9999999 , ..., 0.58997375, 0.6564975 ,\n",
              "        0.5922985 ],\n",
              "       ...,\n",
              "       [0.5427756 , 0.63920605, 0.58997375, ..., 1.        , 0.6378722 ,\n",
              "        0.61628115],\n",
              "       [0.57541025, 0.6011834 , 0.6564975 , ..., 0.6378722 , 1.0000001 ,\n",
              "        0.6389235 ],\n",
              "       [0.6691027 , 0.6711744 , 0.5922985 , ..., 0.61628115, 0.6389235 ,\n",
              "        1.        ]], dtype=float32)"
            ]
          },
          "metadata": {},
          "execution_count": 56
        }
      ]
    },
    {
      "cell_type": "markdown",
      "metadata": {
        "id": "1Rp866GtZGqe"
      },
      "source": [
        "## Avaliando as sentenças similares"
      ]
    },
    {
      "cell_type": "code",
      "source": [
        "import numpy as np\n",
        "\n",
        "def sentencas_similares(tema, reviews, reviews_emb, top_n=5):\n",
        "  tema_emb = modelo([tema])\n",
        "  similaridades = cosine_similarity(tema_emb, reviews_emb).flatten()\n",
        "\n",
        "  indices_similares = np.argsort(-similaridades)\n",
        "  for idx in indices_similares[:top_n]:\n",
        "      print(f'Review: {reviews[idx]} - Similaridade: {similaridades[idx]:.4f}')\n"
      ],
      "metadata": {
        "id": "hvjURT9auLL3"
      },
      "execution_count": null,
      "outputs": []
    },
    {
      "cell_type": "code",
      "source": [
        "sentencas_similares('entrega', reviews, reviews_emb)"
      ],
      "metadata": {
        "id": "F_wLGPaDuLBF",
        "colab": {
          "base_uri": "https://localhost:8080/"
        },
        "outputId": "f16456fa-1da7-41a8-9c6d-9c5ddde59c42"
      },
      "execution_count": null,
      "outputs": [
        {
          "output_type": "stream",
          "name": "stdout",
          "text": [
            "Review: eficiente entrega - Similaridade: 0.6829\n",
            "Review: entrega eficiente - Similaridade: 0.6756\n",
            "Review: agil entrega - Similaridade: 0.6563\n",
            "Review: entrega prazo - Similaridade: 0.6473\n",
            "Review: entrega agil - Similaridade: 0.6471\n"
          ]
        }
      ]
    },
    {
      "cell_type": "code",
      "source": [
        "sentencas_similares('reputação loja', reviews, reviews_emb, top_n=10)"
      ],
      "metadata": {
        "id": "wGH03bxvuK4i",
        "colab": {
          "base_uri": "https://localhost:8080/"
        },
        "outputId": "b2523322-56df-47b2-c43f-9e44c1304f3e"
      },
      "execution_count": null,
      "outputs": [
        {
          "output_type": "stream",
          "name": "stdout",
          "text": [
            "Review: otima loja - Similaridade: 0.8578\n",
            "Review: recomento loja - Similaridade: 0.8339\n",
            "Review: pessima loja - Similaridade: 0.8335\n",
            "Review: adorei loja - Similaridade: 0.8170\n",
            "Review: rapidez eficiencia loja - Similaridade: 0.8018\n",
            "Review: loja confianca - Similaridade: 0.7909\n",
            "Review: produto loja confianca - Similaridade: 0.7888\n",
            "Review: loja ruim - Similaridade: 0.7868\n",
            "Review: otimas experiencias loja - Similaridade: 0.7839\n",
            "Review: satisfeita produto loja - Similaridade: 0.7816\n"
          ]
        }
      ]
    },
    {
      "cell_type": "markdown",
      "metadata": {
        "id": "KOVd4TdlLWCi"
      },
      "source": [
        "# Aula 5 - Transformando a similaridade em aplicação"
      ]
    },
    {
      "cell_type": "code",
      "source": [
        "!pip install gradio"
      ],
      "metadata": {
        "colab": {
          "base_uri": "https://localhost:8080/",
          "height": 1000
        },
        "collapsed": true,
        "id": "FAxR2qRUdh_W",
        "outputId": "3fea87f8-eb26-4645-af83-9e3f11f25c07"
      },
      "execution_count": null,
      "outputs": [
        {
          "output_type": "stream",
          "name": "stdout",
          "text": [
            "Collecting gradio\n",
            "  Downloading gradio-5.15.0-py3-none-any.whl.metadata (16 kB)\n",
            "Collecting aiofiles<24.0,>=22.0 (from gradio)\n",
            "  Downloading aiofiles-23.2.1-py3-none-any.whl.metadata (9.7 kB)\n",
            "Requirement already satisfied: anyio<5.0,>=3.0 in /usr/local/lib/python3.11/dist-packages (from gradio) (3.7.1)\n",
            "Collecting fastapi<1.0,>=0.115.2 (from gradio)\n",
            "  Downloading fastapi-0.115.8-py3-none-any.whl.metadata (27 kB)\n",
            "Collecting ffmpy (from gradio)\n",
            "  Downloading ffmpy-0.5.0-py3-none-any.whl.metadata (3.0 kB)\n",
            "Collecting gradio-client==1.7.0 (from gradio)\n",
            "  Downloading gradio_client-1.7.0-py3-none-any.whl.metadata (7.1 kB)\n",
            "Requirement already satisfied: httpx>=0.24.1 in /usr/local/lib/python3.11/dist-packages (from gradio) (0.28.1)\n",
            "Requirement already satisfied: huggingface-hub>=0.28.1 in /usr/local/lib/python3.11/dist-packages (from gradio) (0.28.1)\n",
            "Requirement already satisfied: jinja2<4.0 in /usr/local/lib/python3.11/dist-packages (from gradio) (3.1.5)\n",
            "Collecting markupsafe~=2.0 (from gradio)\n",
            "  Downloading MarkupSafe-2.1.5-cp311-cp311-manylinux_2_17_x86_64.manylinux2014_x86_64.whl.metadata (3.0 kB)\n",
            "Requirement already satisfied: numpy<3.0,>=1.0 in /usr/local/lib/python3.11/dist-packages (from gradio) (1.26.4)\n",
            "Requirement already satisfied: orjson~=3.0 in /usr/local/lib/python3.11/dist-packages (from gradio) (3.10.15)\n",
            "Requirement already satisfied: packaging in /usr/local/lib/python3.11/dist-packages (from gradio) (24.2)\n",
            "Requirement already satisfied: pandas<3.0,>=1.0 in /usr/local/lib/python3.11/dist-packages (from gradio) (2.2.2)\n",
            "Requirement already satisfied: pillow<12.0,>=8.0 in /usr/local/lib/python3.11/dist-packages (from gradio) (11.1.0)\n",
            "Requirement already satisfied: pydantic>=2.0 in /usr/local/lib/python3.11/dist-packages (from gradio) (2.10.6)\n",
            "Collecting pydub (from gradio)\n",
            "  Downloading pydub-0.25.1-py2.py3-none-any.whl.metadata (1.4 kB)\n",
            "Collecting python-multipart>=0.0.18 (from gradio)\n",
            "  Downloading python_multipart-0.0.20-py3-none-any.whl.metadata (1.8 kB)\n",
            "Requirement already satisfied: pyyaml<7.0,>=5.0 in /usr/local/lib/python3.11/dist-packages (from gradio) (6.0.2)\n",
            "Collecting ruff>=0.9.3 (from gradio)\n",
            "  Downloading ruff-0.9.5-py3-none-manylinux_2_17_x86_64.manylinux2014_x86_64.whl.metadata (25 kB)\n",
            "Collecting safehttpx<0.2.0,>=0.1.6 (from gradio)\n",
            "  Downloading safehttpx-0.1.6-py3-none-any.whl.metadata (4.2 kB)\n",
            "Collecting semantic-version~=2.0 (from gradio)\n",
            "  Downloading semantic_version-2.10.0-py2.py3-none-any.whl.metadata (9.7 kB)\n",
            "Collecting starlette<1.0,>=0.40.0 (from gradio)\n",
            "  Downloading starlette-0.45.3-py3-none-any.whl.metadata (6.3 kB)\n",
            "Collecting tomlkit<0.14.0,>=0.12.0 (from gradio)\n",
            "  Downloading tomlkit-0.13.2-py3-none-any.whl.metadata (2.7 kB)\n",
            "Requirement already satisfied: typer<1.0,>=0.12 in /usr/local/lib/python3.11/dist-packages (from gradio) (0.15.1)\n",
            "Requirement already satisfied: typing-extensions~=4.0 in /usr/local/lib/python3.11/dist-packages (from gradio) (4.12.2)\n",
            "Collecting uvicorn>=0.14.0 (from gradio)\n",
            "  Downloading uvicorn-0.34.0-py3-none-any.whl.metadata (6.5 kB)\n",
            "Requirement already satisfied: fsspec in /usr/local/lib/python3.11/dist-packages (from gradio-client==1.7.0->gradio) (2024.10.0)\n",
            "Requirement already satisfied: websockets<15.0,>=10.0 in /usr/local/lib/python3.11/dist-packages (from gradio-client==1.7.0->gradio) (14.2)\n",
            "Requirement already satisfied: idna>=2.8 in /usr/local/lib/python3.11/dist-packages (from anyio<5.0,>=3.0->gradio) (3.10)\n",
            "Requirement already satisfied: sniffio>=1.1 in /usr/local/lib/python3.11/dist-packages (from anyio<5.0,>=3.0->gradio) (1.3.1)\n",
            "Requirement already satisfied: certifi in /usr/local/lib/python3.11/dist-packages (from httpx>=0.24.1->gradio) (2025.1.31)\n",
            "Requirement already satisfied: httpcore==1.* in /usr/local/lib/python3.11/dist-packages (from httpx>=0.24.1->gradio) (1.0.7)\n",
            "Requirement already satisfied: h11<0.15,>=0.13 in /usr/local/lib/python3.11/dist-packages (from httpcore==1.*->httpx>=0.24.1->gradio) (0.14.0)\n",
            "Requirement already satisfied: filelock in /usr/local/lib/python3.11/dist-packages (from huggingface-hub>=0.28.1->gradio) (3.17.0)\n",
            "Requirement already satisfied: requests in /usr/local/lib/python3.11/dist-packages (from huggingface-hub>=0.28.1->gradio) (2.32.3)\n",
            "Requirement already satisfied: tqdm>=4.42.1 in /usr/local/lib/python3.11/dist-packages (from huggingface-hub>=0.28.1->gradio) (4.67.1)\n",
            "Requirement already satisfied: python-dateutil>=2.8.2 in /usr/local/lib/python3.11/dist-packages (from pandas<3.0,>=1.0->gradio) (2.8.2)\n",
            "Requirement already satisfied: pytz>=2020.1 in /usr/local/lib/python3.11/dist-packages (from pandas<3.0,>=1.0->gradio) (2025.1)\n",
            "Requirement already satisfied: tzdata>=2022.7 in /usr/local/lib/python3.11/dist-packages (from pandas<3.0,>=1.0->gradio) (2025.1)\n",
            "Requirement already satisfied: annotated-types>=0.6.0 in /usr/local/lib/python3.11/dist-packages (from pydantic>=2.0->gradio) (0.7.0)\n",
            "Requirement already satisfied: pydantic-core==2.27.2 in /usr/local/lib/python3.11/dist-packages (from pydantic>=2.0->gradio) (2.27.2)\n",
            "Requirement already satisfied: click>=8.0.0 in /usr/local/lib/python3.11/dist-packages (from typer<1.0,>=0.12->gradio) (8.1.8)\n",
            "Requirement already satisfied: shellingham>=1.3.0 in /usr/local/lib/python3.11/dist-packages (from typer<1.0,>=0.12->gradio) (1.5.4)\n",
            "Requirement already satisfied: rich>=10.11.0 in /usr/local/lib/python3.11/dist-packages (from typer<1.0,>=0.12->gradio) (13.9.4)\n",
            "Requirement already satisfied: six>=1.5 in /usr/local/lib/python3.11/dist-packages (from python-dateutil>=2.8.2->pandas<3.0,>=1.0->gradio) (1.17.0)\n",
            "Requirement already satisfied: markdown-it-py>=2.2.0 in /usr/local/lib/python3.11/dist-packages (from rich>=10.11.0->typer<1.0,>=0.12->gradio) (3.0.0)\n",
            "Requirement already satisfied: pygments<3.0.0,>=2.13.0 in /usr/local/lib/python3.11/dist-packages (from rich>=10.11.0->typer<1.0,>=0.12->gradio) (2.18.0)\n",
            "Requirement already satisfied: charset-normalizer<4,>=2 in /usr/local/lib/python3.11/dist-packages (from requests->huggingface-hub>=0.28.1->gradio) (3.4.1)\n",
            "Requirement already satisfied: urllib3<3,>=1.21.1 in /usr/local/lib/python3.11/dist-packages (from requests->huggingface-hub>=0.28.1->gradio) (2.3.0)\n",
            "Requirement already satisfied: mdurl~=0.1 in /usr/local/lib/python3.11/dist-packages (from markdown-it-py>=2.2.0->rich>=10.11.0->typer<1.0,>=0.12->gradio) (0.1.2)\n",
            "Downloading gradio-5.15.0-py3-none-any.whl (57.8 MB)\n",
            "\u001b[2K   \u001b[90m━━━━━━━━━━━━━━━━━━━━━━━━━━━━━━━━━━━━━━━━\u001b[0m \u001b[32m57.8/57.8 MB\u001b[0m \u001b[31m16.2 MB/s\u001b[0m eta \u001b[36m0:00:00\u001b[0m\n",
            "\u001b[?25hDownloading gradio_client-1.7.0-py3-none-any.whl (321 kB)\n",
            "\u001b[2K   \u001b[90m━━━━━━━━━━━━━━━━━━━━━━━━━━━━━━━━━━━━━━━━\u001b[0m \u001b[32m321.9/321.9 kB\u001b[0m \u001b[31m25.3 MB/s\u001b[0m eta \u001b[36m0:00:00\u001b[0m\n",
            "\u001b[?25hDownloading aiofiles-23.2.1-py3-none-any.whl (15 kB)\n",
            "Downloading fastapi-0.115.8-py3-none-any.whl (94 kB)\n",
            "\u001b[2K   \u001b[90m━━━━━━━━━━━━━━━━━━━━━━━━━━━━━━━━━━━━━━━━\u001b[0m \u001b[32m94.8/94.8 kB\u001b[0m \u001b[31m8.2 MB/s\u001b[0m eta \u001b[36m0:00:00\u001b[0m\n",
            "\u001b[?25hDownloading MarkupSafe-2.1.5-cp311-cp311-manylinux_2_17_x86_64.manylinux2014_x86_64.whl (28 kB)\n",
            "Downloading python_multipart-0.0.20-py3-none-any.whl (24 kB)\n",
            "Downloading ruff-0.9.5-py3-none-manylinux_2_17_x86_64.manylinux2014_x86_64.whl (12.4 MB)\n",
            "\u001b[2K   \u001b[90m━━━━━━━━━━━━━━━━━━━━━━━━━━━━━━━━━━━━━━━━\u001b[0m \u001b[32m12.4/12.4 MB\u001b[0m \u001b[31m92.0 MB/s\u001b[0m eta \u001b[36m0:00:00\u001b[0m\n",
            "\u001b[?25hDownloading safehttpx-0.1.6-py3-none-any.whl (8.7 kB)\n",
            "Downloading semantic_version-2.10.0-py2.py3-none-any.whl (15 kB)\n",
            "Downloading starlette-0.45.3-py3-none-any.whl (71 kB)\n",
            "\u001b[2K   \u001b[90m━━━━━━━━━━━━━━━━━━━━━━━━━━━━━━━━━━━━━━━━\u001b[0m \u001b[32m71.5/71.5 kB\u001b[0m \u001b[31m6.6 MB/s\u001b[0m eta \u001b[36m0:00:00\u001b[0m\n",
            "\u001b[?25hDownloading tomlkit-0.13.2-py3-none-any.whl (37 kB)\n",
            "Downloading uvicorn-0.34.0-py3-none-any.whl (62 kB)\n",
            "\u001b[2K   \u001b[90m━━━━━━━━━━━━━━━━━━━━━━━━━━━━━━━━━━━━━━━━\u001b[0m \u001b[32m62.3/62.3 kB\u001b[0m \u001b[31m5.0 MB/s\u001b[0m eta \u001b[36m0:00:00\u001b[0m\n",
            "\u001b[?25hDownloading ffmpy-0.5.0-py3-none-any.whl (6.0 kB)\n",
            "Downloading pydub-0.25.1-py2.py3-none-any.whl (32 kB)\n",
            "Installing collected packages: pydub, uvicorn, tomlkit, semantic-version, ruff, python-multipart, markupsafe, ffmpy, aiofiles, starlette, safehttpx, gradio-client, fastapi, gradio\n",
            "  Attempting uninstall: markupsafe\n",
            "    Found existing installation: MarkupSafe 3.0.2\n",
            "    Uninstalling MarkupSafe-3.0.2:\n",
            "      Successfully uninstalled MarkupSafe-3.0.2\n",
            "Successfully installed aiofiles-23.2.1 fastapi-0.115.8 ffmpy-0.5.0 gradio-5.15.0 gradio-client-1.7.0 markupsafe-2.1.5 pydub-0.25.1 python-multipart-0.0.20 ruff-0.9.5 safehttpx-0.1.6 semantic-version-2.10.0 starlette-0.45.3 tomlkit-0.13.2 uvicorn-0.34.0\n"
          ]
        },
        {
          "output_type": "display_data",
          "data": {
            "application/vnd.colab-display-data+json": {
              "pip_warning": {
                "packages": [
                  "markupsafe"
                ]
              },
              "id": "858edb13b5a4413a8d357e7543261044"
            }
          },
          "metadata": {}
        }
      ]
    },
    {
      "cell_type": "code",
      "source": [
        "import gradio as gr"
      ],
      "metadata": {
        "id": "NRe62IKEh0e4"
      },
      "execution_count": null,
      "outputs": []
    },
    {
      "cell_type": "code",
      "source": [
        "nltk.download('punkt')\n",
        "nltk.download('stopwords')\n",
        "\n",
        "modulo_url = 'https://tfhub.dev/google/universal-sentence-encoder/4'\n",
        "modelo = hub.load(modulo_url)\n",
        "\n",
        "def tratar_texto(texto):\n",
        "  texto = re.sub(r'\\W', ' ', texto.lower())\n",
        "\n",
        "  word_tokenize_pt = partial(word_tokenize, language='portuguese')\n",
        "  tokens = word_tokenize_pt(texto)\n",
        "  stop_words = set(stopwords.words('portuguese'))\n",
        "  stop_words.discard('não')\n",
        "  tokens = ' '.join([w for w in tokens if w not in stop_words])\n",
        "\n",
        "  texto_sem_acentos = unidecode.unidecode(tokens)\n",
        "\n",
        "  texto_normalizado = re.sub(r'(?!rr|ss)(.)\\1+', r'\\1', texto_sem_acentos)\n",
        "\n",
        "  return texto_normalizado\n",
        "\n",
        "def process_csv(arquivo, tema):\n",
        "  df = pd.read_csv(arquivo.name)\n",
        "  df['review_tratada'] = df['review'].apply(tratar_texto)\n",
        "  df = df[df['review_tratada']!='']\n",
        "  df.drop_duplicates(subset='review_tratada', inplace=True)\n",
        "  df.reset_index(drop=True, inplace=True)\n",
        "\n",
        "  reviews = df['review_tratada'].tolist()\n",
        "  reviews_emb = modelo(reviews)\n",
        "\n",
        "  tema_emb = modelo([tema])\n",
        "\n",
        "  similaridades = cosine_similarity(tema_emb, reviews_emb).flatten()\n",
        "\n",
        "  top_indices = np.argsort(-similaridades)\n",
        "\n",
        "  similar_reviews = df[['nota_review', 'review']].iloc[top_indices]\n",
        "\n",
        "  similar_df = similar_reviews.head(200)\n",
        "\n",
        "  nome_arquivo = f'similar_{tema}.csv'\n",
        "  similar_df.to_csv(nome_arquivo, index=False)\n",
        "\n",
        "  return similar_df, nome_arquivo\n",
        "\n",
        "\n",
        "with gr.Blocks() as app:\n",
        "  with gr.Row():\n",
        "    gr.Markdown('## Encontrando as reviews mais similares ao tema')\n",
        "  csv_entrada = gr.File(label='Envie o CVS com as reviews', file_types=['.csv'])\n",
        "  tema_entrada = gr.Textbox(label='Digite o tema para busca (ex: \"entrega\")')\n",
        "\n",
        "  botao = gr.Button('Clique para buscar as reviews')\n",
        "\n",
        "  tabela_saida = gr.Dataframe(label='Top 200 reviews similares', headers=['Nota', 'Reviews'], interactive=False)\n",
        "  arquivo_saida = gr.File(label='Baixar CSV ordenado com as reviews mais similares ao tema', interactive=False)\n",
        "\n",
        "  botao.click(process_csv, inputs=[csv_entrada, tema_entrada], outputs=[tabela_saida, arquivo_saida])\n",
        "\n",
        "app.launch()\n",
        "\n",
        "\n"
      ],
      "metadata": {
        "id": "FVAUnWVsphme",
        "colab": {
          "base_uri": "https://localhost:8080/",
          "height": 719
        },
        "outputId": "aa8d166c-3815-41d2-b40b-8c07cf057539"
      },
      "execution_count": null,
      "outputs": [
        {
          "output_type": "stream",
          "name": "stderr",
          "text": [
            "[nltk_data] Downloading package punkt to /root/nltk_data...\n",
            "[nltk_data]   Package punkt is already up-to-date!\n",
            "[nltk_data] Downloading package stopwords to /root/nltk_data...\n",
            "[nltk_data]   Package stopwords is already up-to-date!\n"
          ]
        },
        {
          "output_type": "stream",
          "name": "stdout",
          "text": [
            "Running Gradio in a Colab notebook requires sharing enabled. Automatically setting `share=True` (you can turn this off by setting `share=False` in `launch()` explicitly).\n",
            "\n",
            "Colab notebook detected. To show errors in colab notebook, set debug=True in launch()\n",
            "* Running on public URL: https://717c0e9007d00aba7c.gradio.live\n",
            "\n",
            "This share link expires in 72 hours. For free permanent hosting and GPU upgrades, run `gradio deploy` from the terminal in the working directory to deploy to Hugging Face Spaces (https://huggingface.co/spaces)\n"
          ]
        },
        {
          "output_type": "display_data",
          "data": {
            "text/plain": [
              "<IPython.core.display.HTML object>"
            ],
            "text/html": [
              "<div><iframe src=\"https://717c0e9007d00aba7c.gradio.live\" width=\"100%\" height=\"500\" allow=\"autoplay; camera; microphone; clipboard-read; clipboard-write;\" frameborder=\"0\" allowfullscreen></iframe></div>"
            ]
          },
          "metadata": {}
        },
        {
          "output_type": "execute_result",
          "data": {
            "text/plain": []
          },
          "metadata": {},
          "execution_count": 67
        }
      ]
    }
  ],
  "metadata": {
    "colab": {
      "provenance": [],
      "include_colab_link": true
    },
    "kernelspec": {
      "display_name": "Python 3",
      "name": "python3"
    },
    "language_info": {
      "name": "python"
    },
    "widgets": {
      "application/vnd.jupyter.widget-state+json": {
        "354f6e7614c4462fa2f56a4a1dd32727": {
          "model_module": "@jupyter-widgets/controls",
          "model_name": "HBoxModel",
          "model_module_version": "1.5.0",
          "state": {
            "_dom_classes": [],
            "_model_module": "@jupyter-widgets/controls",
            "_model_module_version": "1.5.0",
            "_model_name": "HBoxModel",
            "_view_count": null,
            "_view_module": "@jupyter-widgets/controls",
            "_view_module_version": "1.5.0",
            "_view_name": "HBoxView",
            "box_style": "",
            "children": [
              "IPY_MODEL_2edd53c14d134f31b482d993b868747c",
              "IPY_MODEL_e3d896a640b94995945b9d60be570fa9",
              "IPY_MODEL_c554bf7c2b8840dc94bb5efcd8e379b2"
            ],
            "layout": "IPY_MODEL_95face371bc84c0ebd2229d31b7e6d68"
          }
        },
        "2edd53c14d134f31b482d993b868747c": {
          "model_module": "@jupyter-widgets/controls",
          "model_name": "HTMLModel",
          "model_module_version": "1.5.0",
          "state": {
            "_dom_classes": [],
            "_model_module": "@jupyter-widgets/controls",
            "_model_module_version": "1.5.0",
            "_model_name": "HTMLModel",
            "_view_count": null,
            "_view_module": "@jupyter-widgets/controls",
            "_view_module_version": "1.5.0",
            "_view_name": "HTMLView",
            "description": "",
            "description_tooltip": null,
            "layout": "IPY_MODEL_43f981cf97034ffbbc56b67ca62f03e1",
            "placeholder": "​",
            "style": "IPY_MODEL_df7e640543c44077b75332829a5dc2b9",
            "value": "Downloading https://raw.githubusercontent.com/stanfordnlp/stanza-resources/main/resources_1.10.0.json: "
          }
        },
        "e3d896a640b94995945b9d60be570fa9": {
          "model_module": "@jupyter-widgets/controls",
          "model_name": "FloatProgressModel",
          "model_module_version": "1.5.0",
          "state": {
            "_dom_classes": [],
            "_model_module": "@jupyter-widgets/controls",
            "_model_module_version": "1.5.0",
            "_model_name": "FloatProgressModel",
            "_view_count": null,
            "_view_module": "@jupyter-widgets/controls",
            "_view_module_version": "1.5.0",
            "_view_name": "ProgressView",
            "bar_style": "success",
            "description": "",
            "description_tooltip": null,
            "layout": "IPY_MODEL_a49bac667a10433cb58dfc7c38f7b93c",
            "max": 52448,
            "min": 0,
            "orientation": "horizontal",
            "style": "IPY_MODEL_3c24f79a4f0e43d2bca6019085ea1d17",
            "value": 52448
          }
        },
        "c554bf7c2b8840dc94bb5efcd8e379b2": {
          "model_module": "@jupyter-widgets/controls",
          "model_name": "HTMLModel",
          "model_module_version": "1.5.0",
          "state": {
            "_dom_classes": [],
            "_model_module": "@jupyter-widgets/controls",
            "_model_module_version": "1.5.0",
            "_model_name": "HTMLModel",
            "_view_count": null,
            "_view_module": "@jupyter-widgets/controls",
            "_view_module_version": "1.5.0",
            "_view_name": "HTMLView",
            "description": "",
            "description_tooltip": null,
            "layout": "IPY_MODEL_0cd9ebcaa84f41bda36f8d834d8c1e6d",
            "placeholder": "​",
            "style": "IPY_MODEL_9b3b0ba0385a4d38bdc82d25a8084543",
            "value": " 424k/? [00:00&lt;00:00, 8.43MB/s]"
          }
        },
        "95face371bc84c0ebd2229d31b7e6d68": {
          "model_module": "@jupyter-widgets/base",
          "model_name": "LayoutModel",
          "model_module_version": "1.2.0",
          "state": {
            "_model_module": "@jupyter-widgets/base",
            "_model_module_version": "1.2.0",
            "_model_name": "LayoutModel",
            "_view_count": null,
            "_view_module": "@jupyter-widgets/base",
            "_view_module_version": "1.2.0",
            "_view_name": "LayoutView",
            "align_content": null,
            "align_items": null,
            "align_self": null,
            "border": null,
            "bottom": null,
            "display": null,
            "flex": null,
            "flex_flow": null,
            "grid_area": null,
            "grid_auto_columns": null,
            "grid_auto_flow": null,
            "grid_auto_rows": null,
            "grid_column": null,
            "grid_gap": null,
            "grid_row": null,
            "grid_template_areas": null,
            "grid_template_columns": null,
            "grid_template_rows": null,
            "height": null,
            "justify_content": null,
            "justify_items": null,
            "left": null,
            "margin": null,
            "max_height": null,
            "max_width": null,
            "min_height": null,
            "min_width": null,
            "object_fit": null,
            "object_position": null,
            "order": null,
            "overflow": null,
            "overflow_x": null,
            "overflow_y": null,
            "padding": null,
            "right": null,
            "top": null,
            "visibility": null,
            "width": null
          }
        },
        "43f981cf97034ffbbc56b67ca62f03e1": {
          "model_module": "@jupyter-widgets/base",
          "model_name": "LayoutModel",
          "model_module_version": "1.2.0",
          "state": {
            "_model_module": "@jupyter-widgets/base",
            "_model_module_version": "1.2.0",
            "_model_name": "LayoutModel",
            "_view_count": null,
            "_view_module": "@jupyter-widgets/base",
            "_view_module_version": "1.2.0",
            "_view_name": "LayoutView",
            "align_content": null,
            "align_items": null,
            "align_self": null,
            "border": null,
            "bottom": null,
            "display": null,
            "flex": null,
            "flex_flow": null,
            "grid_area": null,
            "grid_auto_columns": null,
            "grid_auto_flow": null,
            "grid_auto_rows": null,
            "grid_column": null,
            "grid_gap": null,
            "grid_row": null,
            "grid_template_areas": null,
            "grid_template_columns": null,
            "grid_template_rows": null,
            "height": null,
            "justify_content": null,
            "justify_items": null,
            "left": null,
            "margin": null,
            "max_height": null,
            "max_width": null,
            "min_height": null,
            "min_width": null,
            "object_fit": null,
            "object_position": null,
            "order": null,
            "overflow": null,
            "overflow_x": null,
            "overflow_y": null,
            "padding": null,
            "right": null,
            "top": null,
            "visibility": null,
            "width": null
          }
        },
        "df7e640543c44077b75332829a5dc2b9": {
          "model_module": "@jupyter-widgets/controls",
          "model_name": "DescriptionStyleModel",
          "model_module_version": "1.5.0",
          "state": {
            "_model_module": "@jupyter-widgets/controls",
            "_model_module_version": "1.5.0",
            "_model_name": "DescriptionStyleModel",
            "_view_count": null,
            "_view_module": "@jupyter-widgets/base",
            "_view_module_version": "1.2.0",
            "_view_name": "StyleView",
            "description_width": ""
          }
        },
        "a49bac667a10433cb58dfc7c38f7b93c": {
          "model_module": "@jupyter-widgets/base",
          "model_name": "LayoutModel",
          "model_module_version": "1.2.0",
          "state": {
            "_model_module": "@jupyter-widgets/base",
            "_model_module_version": "1.2.0",
            "_model_name": "LayoutModel",
            "_view_count": null,
            "_view_module": "@jupyter-widgets/base",
            "_view_module_version": "1.2.0",
            "_view_name": "LayoutView",
            "align_content": null,
            "align_items": null,
            "align_self": null,
            "border": null,
            "bottom": null,
            "display": null,
            "flex": null,
            "flex_flow": null,
            "grid_area": null,
            "grid_auto_columns": null,
            "grid_auto_flow": null,
            "grid_auto_rows": null,
            "grid_column": null,
            "grid_gap": null,
            "grid_row": null,
            "grid_template_areas": null,
            "grid_template_columns": null,
            "grid_template_rows": null,
            "height": null,
            "justify_content": null,
            "justify_items": null,
            "left": null,
            "margin": null,
            "max_height": null,
            "max_width": null,
            "min_height": null,
            "min_width": null,
            "object_fit": null,
            "object_position": null,
            "order": null,
            "overflow": null,
            "overflow_x": null,
            "overflow_y": null,
            "padding": null,
            "right": null,
            "top": null,
            "visibility": null,
            "width": null
          }
        },
        "3c24f79a4f0e43d2bca6019085ea1d17": {
          "model_module": "@jupyter-widgets/controls",
          "model_name": "ProgressStyleModel",
          "model_module_version": "1.5.0",
          "state": {
            "_model_module": "@jupyter-widgets/controls",
            "_model_module_version": "1.5.0",
            "_model_name": "ProgressStyleModel",
            "_view_count": null,
            "_view_module": "@jupyter-widgets/base",
            "_view_module_version": "1.2.0",
            "_view_name": "StyleView",
            "bar_color": null,
            "description_width": ""
          }
        },
        "0cd9ebcaa84f41bda36f8d834d8c1e6d": {
          "model_module": "@jupyter-widgets/base",
          "model_name": "LayoutModel",
          "model_module_version": "1.2.0",
          "state": {
            "_model_module": "@jupyter-widgets/base",
            "_model_module_version": "1.2.0",
            "_model_name": "LayoutModel",
            "_view_count": null,
            "_view_module": "@jupyter-widgets/base",
            "_view_module_version": "1.2.0",
            "_view_name": "LayoutView",
            "align_content": null,
            "align_items": null,
            "align_self": null,
            "border": null,
            "bottom": null,
            "display": null,
            "flex": null,
            "flex_flow": null,
            "grid_area": null,
            "grid_auto_columns": null,
            "grid_auto_flow": null,
            "grid_auto_rows": null,
            "grid_column": null,
            "grid_gap": null,
            "grid_row": null,
            "grid_template_areas": null,
            "grid_template_columns": null,
            "grid_template_rows": null,
            "height": null,
            "justify_content": null,
            "justify_items": null,
            "left": null,
            "margin": null,
            "max_height": null,
            "max_width": null,
            "min_height": null,
            "min_width": null,
            "object_fit": null,
            "object_position": null,
            "order": null,
            "overflow": null,
            "overflow_x": null,
            "overflow_y": null,
            "padding": null,
            "right": null,
            "top": null,
            "visibility": null,
            "width": null
          }
        },
        "9b3b0ba0385a4d38bdc82d25a8084543": {
          "model_module": "@jupyter-widgets/controls",
          "model_name": "DescriptionStyleModel",
          "model_module_version": "1.5.0",
          "state": {
            "_model_module": "@jupyter-widgets/controls",
            "_model_module_version": "1.5.0",
            "_model_name": "DescriptionStyleModel",
            "_view_count": null,
            "_view_module": "@jupyter-widgets/base",
            "_view_module_version": "1.2.0",
            "_view_name": "StyleView",
            "description_width": ""
          }
        },
        "0d6d86067b5349e99469f9e22f584886": {
          "model_module": "@jupyter-widgets/controls",
          "model_name": "HBoxModel",
          "model_module_version": "1.5.0",
          "state": {
            "_dom_classes": [],
            "_model_module": "@jupyter-widgets/controls",
            "_model_module_version": "1.5.0",
            "_model_name": "HBoxModel",
            "_view_count": null,
            "_view_module": "@jupyter-widgets/controls",
            "_view_module_version": "1.5.0",
            "_view_name": "HBoxView",
            "box_style": "",
            "children": [
              "IPY_MODEL_683df70205b4405da46e289db3856993",
              "IPY_MODEL_a92e8ce2ab254df08766bdc2ad86aa8c",
              "IPY_MODEL_2a28e59bb51f4336b50834421d1bb32c"
            ],
            "layout": "IPY_MODEL_259b00fde6f34dbd8bef769f35bc7523"
          }
        },
        "683df70205b4405da46e289db3856993": {
          "model_module": "@jupyter-widgets/controls",
          "model_name": "HTMLModel",
          "model_module_version": "1.5.0",
          "state": {
            "_dom_classes": [],
            "_model_module": "@jupyter-widgets/controls",
            "_model_module_version": "1.5.0",
            "_model_name": "HTMLModel",
            "_view_count": null,
            "_view_module": "@jupyter-widgets/controls",
            "_view_module_version": "1.5.0",
            "_view_name": "HTMLView",
            "description": "",
            "description_tooltip": null,
            "layout": "IPY_MODEL_e9ee6930ad674a84b3c61a2d3c6ef336",
            "placeholder": "​",
            "style": "IPY_MODEL_7dc57d36c8bc411a81c94ddb2c0b78fe",
            "value": "Downloading https://raw.githubusercontent.com/stanfordnlp/stanza-resources/main/resources_1.10.0.json: "
          }
        },
        "a92e8ce2ab254df08766bdc2ad86aa8c": {
          "model_module": "@jupyter-widgets/controls",
          "model_name": "FloatProgressModel",
          "model_module_version": "1.5.0",
          "state": {
            "_dom_classes": [],
            "_model_module": "@jupyter-widgets/controls",
            "_model_module_version": "1.5.0",
            "_model_name": "FloatProgressModel",
            "_view_count": null,
            "_view_module": "@jupyter-widgets/controls",
            "_view_module_version": "1.5.0",
            "_view_name": "ProgressView",
            "bar_style": "success",
            "description": "",
            "description_tooltip": null,
            "layout": "IPY_MODEL_f7d9484bb8a34b33bfc85fb44c31190e",
            "max": 52448,
            "min": 0,
            "orientation": "horizontal",
            "style": "IPY_MODEL_0bb7ebe6b7884083b4e56018c985c746",
            "value": 52448
          }
        },
        "2a28e59bb51f4336b50834421d1bb32c": {
          "model_module": "@jupyter-widgets/controls",
          "model_name": "HTMLModel",
          "model_module_version": "1.5.0",
          "state": {
            "_dom_classes": [],
            "_model_module": "@jupyter-widgets/controls",
            "_model_module_version": "1.5.0",
            "_model_name": "HTMLModel",
            "_view_count": null,
            "_view_module": "@jupyter-widgets/controls",
            "_view_module_version": "1.5.0",
            "_view_name": "HTMLView",
            "description": "",
            "description_tooltip": null,
            "layout": "IPY_MODEL_f37055cb41a2405bb7eeb73bcda0a58c",
            "placeholder": "​",
            "style": "IPY_MODEL_cc87d094a6224a84b61554c29d3510ad",
            "value": " 424k/? [00:00&lt;00:00, 8.93MB/s]"
          }
        },
        "259b00fde6f34dbd8bef769f35bc7523": {
          "model_module": "@jupyter-widgets/base",
          "model_name": "LayoutModel",
          "model_module_version": "1.2.0",
          "state": {
            "_model_module": "@jupyter-widgets/base",
            "_model_module_version": "1.2.0",
            "_model_name": "LayoutModel",
            "_view_count": null,
            "_view_module": "@jupyter-widgets/base",
            "_view_module_version": "1.2.0",
            "_view_name": "LayoutView",
            "align_content": null,
            "align_items": null,
            "align_self": null,
            "border": null,
            "bottom": null,
            "display": null,
            "flex": null,
            "flex_flow": null,
            "grid_area": null,
            "grid_auto_columns": null,
            "grid_auto_flow": null,
            "grid_auto_rows": null,
            "grid_column": null,
            "grid_gap": null,
            "grid_row": null,
            "grid_template_areas": null,
            "grid_template_columns": null,
            "grid_template_rows": null,
            "height": null,
            "justify_content": null,
            "justify_items": null,
            "left": null,
            "margin": null,
            "max_height": null,
            "max_width": null,
            "min_height": null,
            "min_width": null,
            "object_fit": null,
            "object_position": null,
            "order": null,
            "overflow": null,
            "overflow_x": null,
            "overflow_y": null,
            "padding": null,
            "right": null,
            "top": null,
            "visibility": null,
            "width": null
          }
        },
        "e9ee6930ad674a84b3c61a2d3c6ef336": {
          "model_module": "@jupyter-widgets/base",
          "model_name": "LayoutModel",
          "model_module_version": "1.2.0",
          "state": {
            "_model_module": "@jupyter-widgets/base",
            "_model_module_version": "1.2.0",
            "_model_name": "LayoutModel",
            "_view_count": null,
            "_view_module": "@jupyter-widgets/base",
            "_view_module_version": "1.2.0",
            "_view_name": "LayoutView",
            "align_content": null,
            "align_items": null,
            "align_self": null,
            "border": null,
            "bottom": null,
            "display": null,
            "flex": null,
            "flex_flow": null,
            "grid_area": null,
            "grid_auto_columns": null,
            "grid_auto_flow": null,
            "grid_auto_rows": null,
            "grid_column": null,
            "grid_gap": null,
            "grid_row": null,
            "grid_template_areas": null,
            "grid_template_columns": null,
            "grid_template_rows": null,
            "height": null,
            "justify_content": null,
            "justify_items": null,
            "left": null,
            "margin": null,
            "max_height": null,
            "max_width": null,
            "min_height": null,
            "min_width": null,
            "object_fit": null,
            "object_position": null,
            "order": null,
            "overflow": null,
            "overflow_x": null,
            "overflow_y": null,
            "padding": null,
            "right": null,
            "top": null,
            "visibility": null,
            "width": null
          }
        },
        "7dc57d36c8bc411a81c94ddb2c0b78fe": {
          "model_module": "@jupyter-widgets/controls",
          "model_name": "DescriptionStyleModel",
          "model_module_version": "1.5.0",
          "state": {
            "_model_module": "@jupyter-widgets/controls",
            "_model_module_version": "1.5.0",
            "_model_name": "DescriptionStyleModel",
            "_view_count": null,
            "_view_module": "@jupyter-widgets/base",
            "_view_module_version": "1.2.0",
            "_view_name": "StyleView",
            "description_width": ""
          }
        },
        "f7d9484bb8a34b33bfc85fb44c31190e": {
          "model_module": "@jupyter-widgets/base",
          "model_name": "LayoutModel",
          "model_module_version": "1.2.0",
          "state": {
            "_model_module": "@jupyter-widgets/base",
            "_model_module_version": "1.2.0",
            "_model_name": "LayoutModel",
            "_view_count": null,
            "_view_module": "@jupyter-widgets/base",
            "_view_module_version": "1.2.0",
            "_view_name": "LayoutView",
            "align_content": null,
            "align_items": null,
            "align_self": null,
            "border": null,
            "bottom": null,
            "display": null,
            "flex": null,
            "flex_flow": null,
            "grid_area": null,
            "grid_auto_columns": null,
            "grid_auto_flow": null,
            "grid_auto_rows": null,
            "grid_column": null,
            "grid_gap": null,
            "grid_row": null,
            "grid_template_areas": null,
            "grid_template_columns": null,
            "grid_template_rows": null,
            "height": null,
            "justify_content": null,
            "justify_items": null,
            "left": null,
            "margin": null,
            "max_height": null,
            "max_width": null,
            "min_height": null,
            "min_width": null,
            "object_fit": null,
            "object_position": null,
            "order": null,
            "overflow": null,
            "overflow_x": null,
            "overflow_y": null,
            "padding": null,
            "right": null,
            "top": null,
            "visibility": null,
            "width": null
          }
        },
        "0bb7ebe6b7884083b4e56018c985c746": {
          "model_module": "@jupyter-widgets/controls",
          "model_name": "ProgressStyleModel",
          "model_module_version": "1.5.0",
          "state": {
            "_model_module": "@jupyter-widgets/controls",
            "_model_module_version": "1.5.0",
            "_model_name": "ProgressStyleModel",
            "_view_count": null,
            "_view_module": "@jupyter-widgets/base",
            "_view_module_version": "1.2.0",
            "_view_name": "StyleView",
            "bar_color": null,
            "description_width": ""
          }
        },
        "f37055cb41a2405bb7eeb73bcda0a58c": {
          "model_module": "@jupyter-widgets/base",
          "model_name": "LayoutModel",
          "model_module_version": "1.2.0",
          "state": {
            "_model_module": "@jupyter-widgets/base",
            "_model_module_version": "1.2.0",
            "_model_name": "LayoutModel",
            "_view_count": null,
            "_view_module": "@jupyter-widgets/base",
            "_view_module_version": "1.2.0",
            "_view_name": "LayoutView",
            "align_content": null,
            "align_items": null,
            "align_self": null,
            "border": null,
            "bottom": null,
            "display": null,
            "flex": null,
            "flex_flow": null,
            "grid_area": null,
            "grid_auto_columns": null,
            "grid_auto_flow": null,
            "grid_auto_rows": null,
            "grid_column": null,
            "grid_gap": null,
            "grid_row": null,
            "grid_template_areas": null,
            "grid_template_columns": null,
            "grid_template_rows": null,
            "height": null,
            "justify_content": null,
            "justify_items": null,
            "left": null,
            "margin": null,
            "max_height": null,
            "max_width": null,
            "min_height": null,
            "min_width": null,
            "object_fit": null,
            "object_position": null,
            "order": null,
            "overflow": null,
            "overflow_x": null,
            "overflow_y": null,
            "padding": null,
            "right": null,
            "top": null,
            "visibility": null,
            "width": null
          }
        },
        "cc87d094a6224a84b61554c29d3510ad": {
          "model_module": "@jupyter-widgets/controls",
          "model_name": "DescriptionStyleModel",
          "model_module_version": "1.5.0",
          "state": {
            "_model_module": "@jupyter-widgets/controls",
            "_model_module_version": "1.5.0",
            "_model_name": "DescriptionStyleModel",
            "_view_count": null,
            "_view_module": "@jupyter-widgets/base",
            "_view_module_version": "1.2.0",
            "_view_name": "StyleView",
            "description_width": ""
          }
        }
      }
    }
  },
  "nbformat": 4,
  "nbformat_minor": 0
}